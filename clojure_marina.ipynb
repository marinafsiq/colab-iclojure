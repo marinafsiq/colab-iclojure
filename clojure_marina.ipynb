{
  "nbformat": 4,
  "nbformat_minor": 0,
  "metadata": {
    "colab": {
      "name": "clojure-marina.ipynb",
      "provenance": [],
      "collapsed_sections": [],
      "toc_visible": true,
      "include_colab_link": true
    },
    "kernelspec": {
      "display_name": "Clojure",
      "language": "iclojure",
      "name": "iclojure"
    }
  },
  "cells": [
    {
      "cell_type": "markdown",
      "metadata": {
        "id": "view-in-github",
        "colab_type": "text"
      },
      "source": [
        "<a href=\"https://colab.research.google.com/github/marinafsiq/colab-iclojure/blob/master/clojure_marina.ipynb\" target=\"_parent\"><img src=\"https://colab.research.google.com/assets/colab-badge.svg\" alt=\"Open In Colab\"/></a>"
      ]
    },
    {
      "cell_type": "markdown",
      "metadata": {
        "id": "3Q_koIY3SnDv",
        "colab_type": "text"
      },
      "source": [
        "# Estudando Clojure"
      ]
    },
    {
      "cell_type": "markdown",
      "metadata": {
        "id": "RNSPMQic0_n2",
        "colab_type": "text"
      },
      "source": [
        "This is my notebook to study Clojure. It will be like a cheat sheet and a place with several examples.\n",
        "\n",
        "[Click here](https://colab.research.google.com/drive/1Nz6NTBX48Ut3DrE0qy9aeJOl3AAA8Pes#scrollTo=Np3KS7e1t9-B) to prepare Colab to work with Clojure."
      ]
    },
    {
      "cell_type": "code",
      "metadata": {
        "id": "NMoEEr4eUgwM",
        "colab_type": "code",
        "outputId": "d7e474cf-e42d-415a-b6f2-7369f4b2dae1",
        "colab": {
          "base_uri": "https://localhost:8080/",
          "height": 102
        }
      },
      "source": [
        "!jupyter-kernelspec list"
      ],
      "execution_count": 0,
      "outputs": [
        {
          "output_type": "stream",
          "text": [
            "Available kernels:\n",
            "  ir         /usr/local/share/jupyter/kernels/ir\n",
            "  python2    /usr/local/share/jupyter/kernels/python2\n",
            "  python3    /usr/local/share/jupyter/kernels/python3\n",
            "  swift      /usr/local/share/jupyter/kernels/swift\n"
          ],
          "name": "stdout"
        }
      ]
    },
    {
      "cell_type": "markdown",
      "metadata": {
        "id": "yfHEPSaOrPtZ",
        "colab_type": "text"
      },
      "source": [
        "## Functions\n",
        "\n",
        "\n",
        "```\n",
        "(defn function-name\n",
        "\"comentary about the function\"\n",
        "[argument1 argument2]\n",
        "((println \"this is the body of the function. Do whatever you need here!\")))\n",
        "```\n",
        "\n"
      ]
    },
    {
      "cell_type": "markdown",
      "metadata": {
        "id": "SiayGXqQs2pF",
        "colab_type": "text"
      },
      "source": [
        "### Defining functions"
      ]
    },
    {
      "cell_type": "markdown",
      "metadata": {
        "id": "8VCe2W99tJc0",
        "colab_type": "text"
      },
      "source": [
        "#### Regular Function"
      ]
    },
    {
      "cell_type": "code",
      "metadata": {
        "id": "z2QwPUbVTVtN",
        "colab_type": "code",
        "outputId": "d40e14a4-2c42-4239-8f34-9ac1be5b1a38",
        "colab": {
          "base_uri": "https://localhost:8080/",
          "height": 130
        }
      },
      "source": [
        "(defn first-sum\n",
        "\"This is my first function, and it makes a sum of two numbers\"\n",
        "[num1 num2]\n",
        "(+ num1 num2))\n",
        "\n",
        ";calling the function\n",
        "(first-sum 2 7)"
      ],
      "execution_count": 0,
      "outputs": [
        {
          "output_type": "error",
          "ename": "SyntaxError",
          "evalue": "ignored",
          "traceback": [
            "\u001b[0;36m  File \u001b[0;32m\"<ipython-input-3-1a969b39d2f8>\"\u001b[0;36m, line \u001b[0;32m1\u001b[0m\n\u001b[0;31m    (defn first-sum\u001b[0m\n\u001b[0m              ^\u001b[0m\n\u001b[0;31mSyntaxError\u001b[0m\u001b[0;31m:\u001b[0m invalid syntax\n"
          ]
        }
      ]
    },
    {
      "cell_type": "markdown",
      "metadata": {
        "id": "Z4e58JQPtluZ",
        "colab_type": "text"
      },
      "source": [
        "#### Arity overloading\n",
        "Function with no-params -> 0-arity \\\n",
        "Function with 1 param -> 1-arity \\\n",
        "Function with 2 params -> 2-arity \\\n",
        "etc..."
      ]
    },
    {
      "cell_type": "code",
      "metadata": {
        "id": "ElG-i7cSuJ7Y",
        "colab_type": "code",
        "outputId": "afa7c964-e39e-4836-de1c-20ea0819eaf9",
        "colab": {
          "base_uri": "https://localhost:8080/",
          "height": 69
        }
      },
      "source": [
        "(defn sum-overl-examp\n",
        "\"This is an example of function overloading\"\n",
        "([num1 num2]\n",
        "(+ num1 num2))\n",
        "([num1 num2 num3]\n",
        "(+ num1 num2 num3)))\n",
        "\n",
        ";calling function with two arguments\n",
        "(println \"Calling function with two arguments - Result:\" (sum-overl-examp 5 8))\n",
        "\n",
        ";calling function with three arguments\n",
        "(println \"Calling function with three arguments - Result:\" (sum-overl-examp 5 8 2))"
      ],
      "execution_count": 0,
      "outputs": [
        {
          "output_type": "stream",
          "text": [
            "Calling function with two arguments - Result: 13\n",
            "Calling function with three arguments - Result: 15\n"
          ],
          "name": "stdout"
        },
        {
          "output_type": "execute_result",
          "data": {
            "text/iclojure-html": "<ul><li class='misc'>nil</ul>",
            "text/plain": [
              "nil\n"
            ],
            "application/octet-stream": null
          },
          "metadata": {
            "tags": []
          },
          "execution_count": 58
        }
      ]
    },
    {
      "cell_type": "markdown",
      "metadata": {
        "id": "KMBz8uf5vnek",
        "colab_type": "text"
      },
      "source": [
        "#### Rest parameter\n",
        "Put the rest of the parameters in a list. To indicate a rest parameter it needs to be preciding by an ampersand (&)."
      ]
    },
    {
      "cell_type": "code",
      "metadata": {
        "id": "KrLuM0JYwk1B",
        "colab_type": "code",
        "outputId": "522a7b6d-fc28-4a29-f9b3-c420fcd2eb42",
        "colab": {
          "base_uri": "https://localhost:8080/",
          "height": 52
        }
      },
      "source": [
        "(defn make-complete-statment\n",
        "[name]\n",
        "(str \"Hello, my name is \" name \"!\"))\n",
        "\n",
        "(defn complete-statments-with-names\n",
        "[& all-names]\n",
        "(map make-complete-statment all-names)) ;pode tirar esse map pra ver como fica tambem\n",
        "\n",
        "(complete-statments-with-names \"Marina\" \"Lucas\" \"Mirlei\" \"Andre\")"
      ],
      "execution_count": 0,
      "outputs": [
        {
          "output_type": "execute_result",
          "data": {
            "text/iclojure-html": "<ul><li class=seq>(<ul><li class='string'>\"Hello, my name is Marina!\"<li class=space> <li class='string'>\"Hello, my name is Lucas!\"<li class=space> <li class='string'>\"Hello, my name is Mirlei!\"<li class=space> <li class='string'>\"Hello, my name is Andre!\"<li class=trail>)</ul></ul>",
            "text/plain": [
              "\u001b[2m(\u001b[22m\"Hello, my name is Marina!\" \"Hello, my name is Lucas!\"\n",
              " \"Hello, my name is Mirlei!\" \"Hello, my name is Andre!\"\u001b[2m)\u001b[22m\n"
            ],
            "application/octet-stream": null
          },
          "metadata": {
            "tags": []
          },
          "execution_count": 8
        }
      ]
    },
    {
      "cell_type": "markdown",
      "metadata": {
        "id": "Us3tIoCx49Jn",
        "colab_type": "text"
      },
      "source": [
        "### Destructuring functions"
      ]
    },
    {
      "cell_type": "markdown",
      "metadata": {
        "id": "2_NIaEmv5CoY",
        "colab_type": "text"
      },
      "source": [
        "#### Destructuring Vectors"
      ]
    },
    {
      "cell_type": "code",
      "metadata": {
        "id": "Y355_3aT5Ia0",
        "colab_type": "code",
        "outputId": "774514c6-723e-4d4b-d37d-63d9cc9d3f06",
        "colab": {
          "base_uri": "https://localhost:8080/",
          "height": 86
        }
      },
      "source": [
        "(defn my-choices\n",
        "[[first-choice second-choice & other-choices]]\n",
        "(println (str \"My first choice is: \" first-choice))\n",
        "(println (str \"My second choice is: \" second-choice))\n",
        "(println (str \"My other choices are: \" \n",
        "          (clojure.string/join \", \" other-choices))))\n",
        "          \n",
        "(my-choices [\"banana\" \"avocado\" \"papaya\" \"tangerine\" \"guava\"])"
      ],
      "execution_count": 0,
      "outputs": [
        {
          "output_type": "stream",
          "text": [
            "My first choice is: banana\n",
            "My second choice is: avocado\n",
            "My other choices are: papaya, tangerine, guava\n"
          ],
          "name": "stdout"
        },
        {
          "output_type": "execute_result",
          "data": {
            "text/iclojure-html": "<ul><li class='misc'>nil</ul>",
            "text/plain": [
              "nil\n"
            ],
            "application/octet-stream": null
          },
          "metadata": {
            "tags": []
          },
          "execution_count": 101
        }
      ]
    },
    {
      "cell_type": "markdown",
      "metadata": {
        "id": "kPOYbzFE7O84",
        "colab_type": "text"
      },
      "source": [
        "#### Destructuring Maps"
      ]
    },
    {
      "cell_type": "code",
      "metadata": {
        "id": "lKh6fI7Q7Q-b",
        "colab_type": "code",
        "outputId": "4c00cb6e-c421-479d-afac-ef13f4337c4c",
        "colab": {
          "base_uri": "https://localhost:8080/",
          "height": 104
        }
      },
      "source": [
        "(defn fruit-prices\n",
        "[{banana :banana apple :apple grape :grape passion-fruit \"passion-fruit\"}]\n",
        "(println (str \"Banana price is: $\" banana))\n",
        "(println (str \"Apple price is: $\" apple))\n",
        "(println (str \"Grape price is: $\" grape))\n",
        "(println (str \"Passion-fruit price is: $\" passion-fruit)))\n",
        "\n",
        "(fruit-prices {:banana 2.50 :apple 1.75 :grape 7.60 \"passion-fruit\" 3.35})"
      ],
      "execution_count": 0,
      "outputs": [
        {
          "output_type": "stream",
          "text": [
            "Banana price is: $2.5\n",
            "Apple price is: $1.75\n",
            "Grape price is: $7.6\n",
            "Passion-fruit price is: $3.35\n"
          ],
          "name": "stdout"
        },
        {
          "output_type": "execute_result",
          "data": {
            "text/iclojure-html": "<ul><li class='misc'>nil</ul>",
            "text/plain": [
              "nil\n"
            ],
            "application/octet-stream": null
          },
          "metadata": {
            "tags": []
          },
          "execution_count": 182
        }
      ]
    },
    {
      "cell_type": "markdown",
      "metadata": {
        "id": "DRG0SD7fGd-6",
        "colab_type": "text"
      },
      "source": [
        "Or you can write:"
      ]
    },
    {
      "cell_type": "code",
      "metadata": {
        "colab_type": "code",
        "outputId": "06669a6c-9ba0-423f-ae81-25b14c3fadd4",
        "id": "3GZpMAS39jXE",
        "colab": {
          "base_uri": "https://localhost:8080/",
          "height": 104
        }
      },
      "source": [
        "(defn fruit-prices\n",
        "[{:keys [bananaa apple grape passion-fruit]}] ;the key names between brackets must match the names in the map\n",
        "(println (str \"Banana price is: $\" bananaa))\n",
        "(println (str \"Apple price is: $\" apple))\n",
        "(println (str \"Grape price is: $\" grape))\n",
        "(println (str \"Passion-fruit price is: $\" passion-fruit)))\n",
        "\n",
        "(fruit-prices {:banana 2.50 :apple 1.75 :grape 7.60 \"passion-fruit\" 3.35})"
      ],
      "execution_count": 0,
      "outputs": [
        {
          "output_type": "stream",
          "text": [
            "Banana price is: $\n",
            "Apple price is: $1.75\n",
            "Grape price is: $7.6\n",
            "Passion-fruit price is: $\n"
          ],
          "name": "stdout"
        },
        {
          "output_type": "execute_result",
          "data": {
            "text/iclojure-html": "<ul><li class='misc'>nil</ul>",
            "text/plain": [
              "nil\n"
            ],
            "application/octet-stream": null
          },
          "metadata": {
            "tags": []
          },
          "execution_count": 20
        }
      ]
    },
    {
      "cell_type": "markdown",
      "metadata": {
        "id": "xEvd0iFaH8Dx",
        "colab_type": "text"
      },
      "source": [
        "You can also give a name to the entire map using :as. See the example below:"
      ]
    },
    {
      "cell_type": "code",
      "metadata": {
        "colab_type": "code",
        "outputId": "c47a9f31-8aed-4e46-bc94-d1c174ca5fad",
        "id": "D04ULSxgHJ8R",
        "colab": {
          "base_uri": "https://localhost:8080/",
          "height": 121
        }
      },
      "source": [
        "(defn fruit-prices\n",
        "[{:keys [banana apple grape passion-fruit] :as my-fruits}] ;the key names between brackets must match the names in the map\n",
        "(println (str \"These are all the available fruits and prices today today:\" (clojure.string/join \", \" my-fruits) ))\n",
        "(println \"In a more beautiful way...\")\n",
        "(println (str \"Banana price is: $\" banana))\n",
        "(println (str \"Apple price is: $\" apple))\n",
        "(println (str \"Grape price is: $\" grape)))\n",
        "\n",
        "(fruit-prices {:banana 2.50 :apple 1.75 :grape 7.60})"
      ],
      "execution_count": 0,
      "outputs": [
        {
          "output_type": "stream",
          "text": [
            "These are all the available fruits and prices today today:[:banana 2.5], [:apple 1.75], [:grape 7.6]\n",
            "In a more beautiful way...\n",
            "Banana price is: $2.5\n",
            "Apple price is: $1.75\n",
            "Grape price is: $7.6\n"
          ],
          "name": "stdout"
        },
        {
          "output_type": "execute_result",
          "data": {
            "text/iclojure-html": "<ul><li class='misc'>nil</ul>",
            "text/plain": [
              "nil\n"
            ],
            "application/octet-stream": null
          },
          "metadata": {
            "tags": []
          },
          "execution_count": 202
        }
      ]
    },
    {
      "cell_type": "markdown",
      "metadata": {
        "colab_type": "text",
        "id": "PAz5Ui5vNUB7"
      },
      "source": [
        "### Anonymous functions\n",
        "\n",
        "```\n",
        "(fn [params]\n",
        "function-body)\n",
        "```\n",
        "\n"
      ]
    },
    {
      "cell_type": "code",
      "metadata": {
        "id": "mXO6enVbNYrD",
        "colab_type": "code",
        "outputId": "19c0a54b-8272-4f28-be2e-035ee5f604fc",
        "colab": {
          "base_uri": "https://localhost:8080/",
          "height": 34
        }
      },
      "source": [
        "(map (fn [name] (str \"Hi, my name is \" name \"!!!\")) [\"Marina\" \"Lucas\" \"Stella\"])"
      ],
      "execution_count": 0,
      "outputs": [
        {
          "output_type": "execute_result",
          "data": {
            "text/iclojure-html": "<ul><li class=seq>(<ul><li class='string'>\"Hi, my name is Marina!!!\"<li class=space> <li class='string'>\"Hi, my name is Lucas!!!\"<li class=space> <li class='string'>\"Hi, my name is Stella!!!\"<li class=trail>)</ul></ul>",
            "text/plain": [
              "\u001b[2m(\u001b[22m\"Hi, my name is Marina!!!\" \"Hi, my name is Lucas!!!\" \"Hi, my name is Stella!!!\"\u001b[2m)\u001b[22m\n"
            ],
            "application/octet-stream": null
          },
          "metadata": {
            "tags": []
          },
          "execution_count": 229
        }
      ]
    },
    {
      "cell_type": "code",
      "metadata": {
        "id": "VVUFKtbxN-En",
        "colab_type": "code",
        "outputId": "f1f709a9-539c-4849-8fa5-1ea136b10ef3",
        "colab": {
          "base_uri": "https://localhost:8080/",
          "height": 34
        }
      },
      "source": [
        "((fn [x] (* x x 2 10)) 4)"
      ],
      "execution_count": 0,
      "outputs": [
        {
          "output_type": "execute_result",
          "data": {
            "text/iclojure-html": "<ul><li class='misc'>320</ul>",
            "text/plain": [
              "320\n"
            ],
            "application/octet-stream": null
          },
          "metadata": {
            "tags": []
          },
          "execution_count": 234
        }
      ]
    },
    {
      "cell_type": "markdown",
      "metadata": {
        "id": "vbS7jZpWOO39",
        "colab_type": "text"
      },
      "source": [
        "You can write these functions in a differente way:"
      ]
    },
    {
      "cell_type": "code",
      "metadata": {
        "id": "v99DvGgvOSYs",
        "colab_type": "code",
        "outputId": "6064f97f-f801-4f9b-bab7-c344a273eff0",
        "colab": {
          "base_uri": "https://localhost:8080/",
          "height": 34
        }
      },
      "source": [
        "(#(* % % 2 10) 4)"
      ],
      "execution_count": 0,
      "outputs": [
        {
          "output_type": "execute_result",
          "data": {
            "text/iclojure-html": "<ul><li class='misc'>320</ul>",
            "text/plain": [
              "320\n"
            ],
            "application/octet-stream": null
          },
          "metadata": {
            "tags": []
          },
          "execution_count": 236
        }
      ]
    },
    {
      "cell_type": "code",
      "metadata": {
        "colab_type": "code",
        "outputId": "38e5b95f-ff9e-4f6b-8d0e-bbebedb14de0",
        "id": "G0GaBcJAOdzw",
        "colab": {
          "base_uri": "https://localhost:8080/",
          "height": 34
        }
      },
      "source": [
        "(map #(str \"Hi, my name is \" % \"!!!\") [\"Marina\" \"Lucas\" \"Stella\"])"
      ],
      "execution_count": 0,
      "outputs": [
        {
          "output_type": "execute_result",
          "data": {
            "text/iclojure-html": "<ul><li class=seq>(<ul><li class='string'>\"Hi, my name is Marina!!!\"<li class=space> <li class='string'>\"Hi, my name is Lucas!!!\"<li class=space> <li class='string'>\"Hi, my name is Stella!!!\"<li class=trail>)</ul></ul>",
            "text/plain": [
              "\u001b[2m(\u001b[22m\"Hi, my name is Marina!!!\" \"Hi, my name is Lucas!!!\" \"Hi, my name is Stella!!!\"\u001b[2m)\u001b[22m\n"
            ],
            "application/octet-stream": null
          },
          "metadata": {
            "tags": []
          },
          "execution_count": 239
        }
      ]
    },
    {
      "cell_type": "markdown",
      "metadata": {
        "id": "2opJKPpVOunB",
        "colab_type": "text"
      },
      "source": [
        "Some other examples:"
      ]
    },
    {
      "cell_type": "code",
      "metadata": {
        "id": "fXMHdEJDOwEa",
        "colab_type": "code",
        "outputId": "2c5231d8-77ff-41eb-f853-b487f09d2875",
        "colab": {
          "base_uri": "https://localhost:8080/",
          "height": 34
        }
      },
      "source": [
        "(#(+ %1 %2) 4 6)"
      ],
      "execution_count": 0,
      "outputs": [
        {
          "output_type": "execute_result",
          "data": {
            "text/iclojure-html": "<ul><li class='misc'>10</ul>",
            "text/plain": [
              "10\n"
            ],
            "application/octet-stream": null
          },
          "metadata": {
            "tags": []
          },
          "execution_count": 243
        }
      ]
    },
    {
      "cell_type": "code",
      "metadata": {
        "id": "8Z3gxIeUPBk4",
        "colab_type": "code",
        "outputId": "5d2341c2-d39a-4bd7-a9b8-97012bc00416",
        "colab": {
          "base_uri": "https://localhost:8080/",
          "height": 52
        }
      },
      "source": [
        "(#(println (str \"The result is:   \" (clojure.string/join \" \" %&))) \"Meu nome eh Marina\" \" - \" \"tenho\" 26 \"anos\")"
      ],
      "execution_count": 0,
      "outputs": [
        {
          "output_type": "stream",
          "text": [
            "The result is:   Meu nome eh Marina  -  tenho 26 anos\n"
          ],
          "name": "stdout"
        },
        {
          "output_type": "execute_result",
          "data": {
            "text/iclojure-html": "<ul><li class='misc'>nil</ul>",
            "text/plain": [
              "nil\n"
            ],
            "application/octet-stream": null
          },
          "metadata": {
            "tags": []
          },
          "execution_count": 256
        }
      ]
    },
    {
      "cell_type": "markdown",
      "metadata": {
        "id": "kOmqCeiKQis4",
        "colab_type": "text"
      },
      "source": [
        "### Functions returns"
      ]
    },
    {
      "cell_type": "markdown",
      "metadata": {
        "id": "THZF44o1QotN",
        "colab_type": "text"
      },
      "source": [
        "#### Default\n",
        "Returns the last thing"
      ]
    },
    {
      "cell_type": "code",
      "metadata": {
        "id": "u-AeqXVRQz5h",
        "colab_type": "code",
        "outputId": "2d3a1f1c-1dca-4dff-aa2e-36fc5024a9ed",
        "colab": {
          "base_uri": "https://localhost:8080/",
          "height": 52
        }
      },
      "source": [
        "(defn crazy-function []\n",
        "\"return lalala\"\n",
        "(+ 2 6)\n",
        "(println \"print de algo, nao retorno\")\n",
        "\"retornando ultima coisa\")\n",
        "\n",
        "(crazy-function)"
      ],
      "execution_count": 0,
      "outputs": [
        {
          "output_type": "stream",
          "text": [
            "print de algo, nao retorno\n"
          ],
          "name": "stdout"
        },
        {
          "output_type": "execute_result",
          "data": {
            "text/iclojure-html": "<ul><li class='string'>\"retornando ultima coisa\"</ul>",
            "text/plain": [
              "\"retornando ultima coisa\"\n"
            ],
            "application/octet-stream": null
          },
          "metadata": {
            "tags": []
          },
          "execution_count": 267
        }
      ]
    },
    {
      "cell_type": "markdown",
      "metadata": {
        "colab_type": "text",
        "id": "h3jIGfdhRTsm"
      },
      "source": [
        "#### Returning a function\n",
        "A function in Clojure can return a function or pass a function as argument.\n",
        "Closures?"
      ]
    },
    {
      "cell_type": "code",
      "metadata": {
        "colab_type": "code",
        "outputId": "d43970a6-dcd5-4546-9e25-e17234134658",
        "id": "xl66M2iNRTsz",
        "colab": {
          "base_uri": "https://localhost:8080/",
          "height": 34
        }
      },
      "source": [
        "(defn my-multiply \n",
        "[num]\n",
        "#(* num %))\n",
        "\n",
        "(def my-double (my-multiply 2))\n",
        "\n",
        "(my-double 7)"
      ],
      "execution_count": 0,
      "outputs": [
        {
          "output_type": "execute_result",
          "data": {
            "text/iclojure-html": "<ul><li class='misc'>14</ul>",
            "text/plain": [
              "14\n"
            ],
            "application/octet-stream": null
          },
          "metadata": {
            "tags": []
          },
          "execution_count": 279
        }
      ]
    },
    {
      "cell_type": "markdown",
      "metadata": {
        "id": "rOVs3lvjEhJ3",
        "colab_type": "text"
      },
      "source": [
        "### Exercise - hobbit"
      ]
    },
    {
      "cell_type": "markdown",
      "metadata": {
        "id": "3yNSvwsWbLuL",
        "colab_type": "text"
      },
      "source": [
        "Before starting the exercise, get to know some other important structures."
      ]
    },
    {
      "cell_type": "markdown",
      "metadata": {
        "id": "uReG_AreEvzZ",
        "colab_type": "text"
      },
      "source": [
        "#### Let\n",
        "\n"
      ]
    },
    {
      "cell_type": "markdown",
      "metadata": {
        "id": "YEt42h4Wa5yg",
        "colab_type": "text"
      },
      "source": [
        "\n",
        "```\n",
        "(let [binding name to value] operation)\n",
        "```"
      ]
    },
    {
      "cell_type": "code",
      "metadata": {
        "id": "DijGiDuJE46O",
        "colab_type": "code",
        "outputId": "1a0dbbcd-5442-42db-ef82-780865a78c2d",
        "colab": {
          "base_uri": "https://localhost:8080/",
          "height": 34
        }
      },
      "source": [
        "(let [x 14] (+ (* x 2) 2))"
      ],
      "execution_count": 0,
      "outputs": [
        {
          "output_type": "execute_result",
          "data": {
            "text/iclojure-html": "<ul><li class='misc'>30</ul>",
            "text/plain": [
              "30\n"
            ],
            "application/octet-stream": null
          },
          "metadata": {
            "tags": []
          },
          "execution_count": 382
        }
      ]
    },
    {
      "cell_type": "code",
      "metadata": {
        "id": "6jmSYvNPJOx1",
        "colab_type": "code",
        "outputId": "e158a3d8-2339-4ac4-e9da-a388b8853d52",
        "colab": {
          "base_uri": "https://localhost:8080/",
          "height": 69
        }
      },
      "source": [
        "(def names [\"Marina\" \"Fernandes\" \"Siqueira\"])\n",
        "(let [[first-name & other-names] names] \n",
        "  (do (println first-name)\n",
        "      (println other-names)\n",
        "      [first-name other-names]))"
      ],
      "execution_count": 0,
      "outputs": [
        {
          "output_type": "stream",
          "text": [
            "Marina\n",
            "(Fernandes Siqueira)\n"
          ],
          "name": "stdout"
        },
        {
          "output_type": "execute_result",
          "data": {
            "text/iclojure-html": "<ul><li class=vector>[<ul><li class='string'>\"Marina\"<li class=space> <li class=seq>(<ul><li class='string'>\"Fernandes\"<li class=space> <li class='string'>\"Siqueira\"<li class=trail>)</ul><li class=trail>]</ul></ul>",
            "text/plain": [
              "\u001b[2m[\u001b[22m\"Marina\" \u001b[2m(\u001b[22m\"Fernandes\" \"Siqueira\"\u001b[2m)\u001b[22m\u001b[2m]\u001b[22m\n"
            ],
            "application/octet-stream": null
          },
          "metadata": {
            "tags": []
          },
          "execution_count": 405
        }
      ]
    },
    {
      "cell_type": "code",
      "metadata": {
        "id": "w_-oi81j7Ylu",
        "colab_type": "code",
        "outputId": "e58332dd-d613-45dc-f955-e03335188e03",
        "colab": {
          "base_uri": "https://localhost:8080/",
          "height": 34
        }
      },
      "source": [
        "(let [x 4 y 7] (+ x y))"
      ],
      "execution_count": 0,
      "outputs": [
        {
          "output_type": "execute_result",
          "data": {
            "text/iclojure-html": "<ul><li class='misc'>11</ul>",
            "text/plain": [
              "11\n"
            ],
            "application/octet-stream": null
          },
          "metadata": {
            "tags": []
          },
          "execution_count": 78
        }
      ]
    },
    {
      "cell_type": "markdown",
      "metadata": {
        "id": "4CEHAXtvL3Do",
        "colab_type": "text"
      },
      "source": [
        "#### Set and Into"
      ]
    },
    {
      "cell_type": "code",
      "metadata": {
        "id": "W-vTaXXTL6NG",
        "colab_type": "code",
        "outputId": "0c6f8b4f-0f7e-4f9e-dc92-d9b1e6b527aa",
        "colab": {
          "base_uri": "https://localhost:8080/",
          "height": 34
        }
      },
      "source": [
        "(def final-vector [\"vetor\"])\n",
        "(into final-vector\n",
        "      (set [\"left-arm\" \"right-arm\" \"head\" \"head\"]))"
      ],
      "execution_count": 0,
      "outputs": [
        {
          "output_type": "execute_result",
          "data": {
            "text/iclojure-html": "<ul><li class=vector>[<ul><li class='string'>\"vetor\"<li class=space> <li class='string'>\"right-arm\"<li class=space> <li class='string'>\"left-arm\"<li class=space> <li class='string'>\"head\"<li class=trail>]</ul></ul>",
            "text/plain": [
              "\u001b[2m[\u001b[22m\"vetor\" \"right-arm\" \"left-arm\" \"head\"\u001b[2m]\u001b[22m\n"
            ],
            "application/octet-stream": null
          },
          "metadata": {
            "tags": []
          },
          "execution_count": 56
        }
      ]
    },
    {
      "cell_type": "code",
      "metadata": {
        "id": "gLkQ_0qmMCqe",
        "colab_type": "code",
        "outputId": "2cee9877-58b8-42e4-985d-39c01fa4ee66",
        "colab": {
          "base_uri": "https://localhost:8080/",
          "height": 34
        }
      },
      "source": [
        "(def final-list '(\"lista\"))\n",
        "(into final-list\n",
        "      (set [\"left-arm\" \"right-arm\" \"head\" \"head\"]))"
      ],
      "execution_count": 0,
      "outputs": [
        {
          "output_type": "execute_result",
          "data": {
            "text/iclojure-html": "<ul><li class=seq>(<ul><li class='string'>\"head\"<li class=space> <li class='string'>\"left-arm\"<li class=space> <li class='string'>\"right-arm\"<li class=space> <li class='string'>\"lista\"<li class=trail>)</ul></ul>",
            "text/plain": [
              "\u001b[2m(\u001b[22m\"head\" \"left-arm\" \"right-arm\" \"lista\"\u001b[2m)\u001b[22m\n"
            ],
            "application/octet-stream": null
          },
          "metadata": {
            "tags": []
          },
          "execution_count": 421
        }
      ]
    },
    {
      "cell_type": "code",
      "metadata": {
        "id": "Mx25B558MZAy",
        "colab_type": "code",
        "outputId": "7f22e620-4a09-4bac-9aa2-2061e534b9e3",
        "colab": {
          "base_uri": "https://localhost:8080/",
          "height": 34
        }
      },
      "source": [
        "(into [] (set [:a :a]))"
      ],
      "execution_count": 0,
      "outputs": [
        {
          "output_type": "execute_result",
          "data": {
            "text/iclojure-html": "<ul><li class=vector>[<ul><li class=keyword>:a<li class=trail>]</ul></ul>",
            "text/plain": [
              "\u001b[2m[\u001b[22m\u001b[36m:a\u001b[m\u001b[2m]\u001b[22m\n"
            ],
            "application/octet-stream": null
          },
          "metadata": {
            "tags": []
          },
          "execution_count": 429
        }
      ]
    },
    {
      "cell_type": "code",
      "metadata": {
        "id": "BS1suBk0MfKG",
        "colab_type": "code",
        "outputId": "0043668d-a4ef-4fac-b195-80af948cd82e",
        "colab": {
          "base_uri": "https://localhost:8080/",
          "height": 34
        }
      },
      "source": [
        "(into [:b] (set [:a :a]))"
      ],
      "execution_count": 0,
      "outputs": [
        {
          "output_type": "execute_result",
          "data": {
            "text/iclojure-html": "<ul><li class=vector>[<ul><li class=keyword>:b<li class=space> <li class=keyword>:a<li class=trail>]</ul></ul>",
            "text/plain": [
              "\u001b[2m[\u001b[22m\u001b[36m:b\u001b[m \u001b[36m:a\u001b[m\u001b[2m]\u001b[22m\n"
            ],
            "application/octet-stream": null
          },
          "metadata": {
            "tags": []
          },
          "execution_count": 427
        }
      ]
    },
    {
      "cell_type": "markdown",
      "metadata": {
        "id": "ezbp888oNyoy",
        "colab_type": "text"
      },
      "source": [
        "#### Loop\n"
      ]
    },
    {
      "cell_type": "markdown",
      "metadata": {
        "id": "Re6NPmX2a_PZ",
        "colab_type": "text"
      },
      "source": [
        "```\n",
        "(loop [binding]\n",
        "  (can-do-something-here)\n",
        "    (stop-condition\n",
        "      (statment)\n",
        "      (recur (binding))))\n",
        "```\n"
      ]
    },
    {
      "cell_type": "code",
      "metadata": {
        "id": "val-S4XDOUaF",
        "colab_type": "code",
        "outputId": "6e4d2bb9-27f9-4fb2-e707-8960da571b4e",
        "colab": {
          "base_uri": "https://localhost:8080/",
          "height": 243
        }
      },
      "source": [
        "(loop [i 0]\n",
        "  (println (str \"i = \" i))\n",
        "  (if (>= i 10)\n",
        "    (println \"Stops when i hits 10\")\n",
        "    (recur (inc i))))"
      ],
      "execution_count": 0,
      "outputs": [
        {
          "output_type": "stream",
          "text": [
            "i = 0\n",
            "i = 1\n",
            "i = 2\n",
            "i = 3\n",
            "i = 4\n",
            "i = 5\n",
            "i = 6\n",
            "i = 7\n",
            "i = 8\n",
            "i = 9\n",
            "i = 10\n",
            "Stops when i hits 10\n"
          ],
          "name": "stdout"
        },
        {
          "output_type": "execute_result",
          "data": {
            "text/iclojure-html": "<ul><li class='misc'>nil</ul>",
            "text/plain": [
              "nil\n"
            ],
            "application/octet-stream": null
          },
          "metadata": {
            "tags": []
          },
          "execution_count": 443
        }
      ]
    },
    {
      "cell_type": "code",
      "metadata": {
        "id": "qHaFIjwcTOHk",
        "colab_type": "code",
        "outputId": "a37e1ffc-33df-4ce6-dd82-620a28e79f35",
        "colab": {
          "base_uri": "https://localhost:8080/",
          "height": 364
        }
      },
      "source": [
        "(loop [i 0 j 10]\n",
        "  (println (str \"i = \" i))\n",
        "  (println (str \"j = \" j))\n",
        "  (println \"--------\")\n",
        "  (+ i j)\n",
        "  (if (>= i 5)\n",
        "    (println \"Finish!\")\n",
        "    (recur (inc i) (- j 1))))"
      ],
      "execution_count": 0,
      "outputs": [
        {
          "output_type": "stream",
          "text": [
            "i = 0\n",
            "j = 10\n",
            "--------\n",
            "i = 1\n",
            "j = 9\n",
            "--------\n",
            "i = 2\n",
            "j = 8\n",
            "--------\n",
            "i = 3\n",
            "j = 7\n",
            "--------\n",
            "i = 4\n",
            "j = 6\n",
            "--------\n",
            "i = 5\n",
            "j = 5\n",
            "--------\n",
            "Finish!\n"
          ],
          "name": "stdout"
        },
        {
          "output_type": "execute_result",
          "data": {
            "text/iclojure-html": "<ul><li class='misc'>nil</ul>",
            "text/plain": [
              "nil\n"
            ],
            "application/octet-stream": null
          },
          "metadata": {
            "tags": []
          },
          "execution_count": 467
        }
      ]
    },
    {
      "cell_type": "markdown",
      "metadata": {
        "id": "v0InnOKmQhvW",
        "colab_type": "text"
      },
      "source": [
        "#### Regular expression"
      ]
    },
    {
      "cell_type": "markdown",
      "metadata": {
        "id": "82PfohuAafxM",
        "colab_type": "text"
      },
      "source": [
        "\n",
        "```\n",
        "#\"regular-expression\"\n",
        "```"
      ]
    },
    {
      "cell_type": "markdown",
      "metadata": {
        "id": "TOtRDdwjZ-rP",
        "colab_type": "text"
      },
      "source": [
        "#### The actual exercise"
      ]
    },
    {
      "cell_type": "code",
      "metadata": {
        "colab_type": "code",
        "outputId": "cd502257-46f3-4c0c-97a8-f889bc4b40ea",
        "id": "iWUgGHCyaDlv",
        "colab": {
          "base_uri": "https://localhost:8080/",
          "height": 86
        }
      },
      "source": [
        "(def asym-hobbit-body-parts [{:name \"head\" :size 3}\n",
        "                             {:name \"left-eye\" :size 1}\n",
        "                             {:name \"left-ear\" :size 1}\n",
        "                             {:name \"mouth\" :size 1}\n",
        "                             {:name \"nose\" :size 1}\n",
        "                             {:name \"neck\" :size 2}\n",
        "                             {:name \"left-shoulder\" :size 3}\n",
        "                             {:name \"left-upper-arm\" :size 3}\n",
        "                             {:name \"chest\" :size 10}\n",
        "                             {:name \"back\" :size 10}\n",
        "                             {:name \"left-forearm\" :size 3}\n",
        "                             {:name \"abdomen\" :size 6}\n",
        "                             {:name \"left-kidney\" :size 1}\n",
        "                             {:name \"left-hand\" :size 2}\n",
        "                             {:name \"left-knee\" :size 2}\n",
        "                             {:name \"left-thigh\" :size 4}\n",
        "                             {:name \"left-lower-leg\" :size 3}\n",
        "                             {:name \"left-achilles\" :size 1}\n",
        "                             {:name \"left-foot\" :size 2}])\n",
        "                             \n",
        "\n",
        "asym-hobbit-body-parts"
      ],
      "execution_count": 0,
      "outputs": [
        {
          "output_type": "execute_result",
          "data": {
            "text/iclojure-html": "<ul><li class=vector>[<ul><li class=map>{<ul><li><ul><li class=keyword>:name<li class=space> <li class='string'>\"head\"<li class=trail>,</ul><li class=space> <li><ul><li class=keyword>:size<li class=space> <li class='misc'>3</ul><li class=trail>}</ul><li class=space> <li class=map>{<ul><li><ul><li class=keyword>:name<li class=space> <li class='string'>\"left-eye\"<li class=trail>,</ul><li class=space> <li><ul><li class=keyword>:size<li class=space> <li class='misc'>1</ul><li class=trail>}</ul><li class=space> <li class=map>{<ul><li><ul><li class=keyword>:name<li class=space> <li class='string'>\"left-ear\"<li class=trail>,</ul><li class=space> <li><ul><li class=keyword>:size<li class=space> <li class='misc'>1</ul><li class=trail>}</ul><li class=space> <li class=map>{<ul><li><ul><li class=keyword>:name<li class=space> <li class='string'>\"mouth\"<li class=trail>,</ul><li class=space> <li><ul><li class=keyword>:size<li class=space> <li class='misc'>1</ul><li class=trail>}</ul><li class=space> <li class=map>{<ul><li><ul><li class=keyword>:name<li class=space> <li class='string'>\"nose\"<li class=trail>,</ul><li class=space> <li><ul><li class=keyword>:size<li class=space> <li class='misc'>1</ul><li class=trail>}</ul><li class=space> <li class=map>{<ul><li><ul><li class=keyword>:name<li class=space> <li class='string'>\"neck\"<li class=trail>,</ul><li class=space> <li><ul><li class=keyword>:size<li class=space> <li class='misc'>2</ul><li class=trail>}</ul><li class=space> <li class=map>{<ul><li><ul><li class=keyword>:name<li class=space> <li class='string'>\"left-shoulder\"<li class=trail>,</ul><li class=space> <li><ul><li class=keyword>:size<li class=space> <li class='misc'>3</ul><li class=trail>}</ul><li class=space> <li class=map>{<ul><li><ul><li class=keyword>:name<li class=space> <li class='string'>\"left-upper-arm\"<li class=trail>,</ul><li class=space> <li><ul><li class=keyword>:size<li class=space> <li class='misc'>3</ul><li class=trail>}</ul><li class=space> <li class=map>{<ul><li><ul><li class=keyword>:name<li class=space> <li class='string'>\"chest\"<li class=trail>,</ul><li class=space> <li><ul><li class=keyword>:size<li class=space> <li class='misc'>10</ul><li class=trail>}</ul><li class=space> <li class=map>{<ul><li><ul><li class=keyword>:name<li class=space> <li class='string'>\"back\"<li class=trail>,</ul><li class=space> <li><ul><li class=keyword>:size<li class=space> <li class='misc'>10</ul><li class=trail>}</ul><li class=space> <li class=elision data-expr='(unrepl.repl$p8QhJwTpu2S19yqqZbyXWLOYcI8/fetch :G__784)'>…<li class=trail>]</ul></ul>",
            "text/plain": [
              "\u001b[2m[\u001b[22m\u001b[2m{\u001b[22m\u001b[36m:name\u001b[m \"head\"\u001b[2m,\u001b[22m \u001b[36m:size\u001b[m 3\u001b[2m}\u001b[22m \u001b[2m{\u001b[22m\u001b[36m:name\u001b[m \"left-eye\"\u001b[2m,\u001b[22m \u001b[36m:size\u001b[m 1\u001b[2m}\u001b[22m \u001b[2m{\u001b[22m\u001b[36m:name\u001b[m \"left-ear\"\u001b[2m,\u001b[22m \u001b[36m:size\u001b[m 1\u001b[2m}\u001b[22m\n",
              " \u001b[2m{\u001b[22m\u001b[36m:name\u001b[m \"mouth\"\u001b[2m,\u001b[22m \u001b[36m:size\u001b[m 1\u001b[2m}\u001b[22m \u001b[2m{\u001b[22m\u001b[36m:name\u001b[m \"nose\"\u001b[2m,\u001b[22m \u001b[36m:size\u001b[m 1\u001b[2m}\u001b[22m \u001b[2m{\u001b[22m\u001b[36m:name\u001b[m \"neck\"\u001b[2m,\u001b[22m \u001b[36m:size\u001b[m 2\u001b[2m}\u001b[22m\n",
              " \u001b[2m{\u001b[22m\u001b[36m:name\u001b[m \"left-shoulder\"\u001b[2m,\u001b[22m \u001b[36m:size\u001b[m 3\u001b[2m}\u001b[22m \u001b[2m{\u001b[22m\u001b[36m:name\u001b[m \"left-upper-arm\"\u001b[2m,\u001b[22m \u001b[36m:size\u001b[m 3\u001b[2m}\u001b[22m\n",
              " \u001b[2m{\u001b[22m\u001b[36m:name\u001b[m \"chest\"\u001b[2m,\u001b[22m \u001b[36m:size\u001b[m 10\u001b[2m}\u001b[22m \u001b[2m{\u001b[22m\u001b[36m:name\u001b[m \"back\"\u001b[2m,\u001b[22m \u001b[36m:size\u001b[m 10\u001b[2m}\u001b[22m \u001b[4m/1\u001b[m\u001b[2m]\u001b[22m\n"
            ],
            "application/octet-stream": null
          },
          "metadata": {
            "tags": []
          },
          "execution_count": 4
        }
      ]
    },
    {
      "cell_type": "code",
      "metadata": {
        "colab_type": "code",
        "outputId": "42a20574-5c78-4bf0-9bef-43138e0512d0",
        "id": "TV1Ilh7maDmC",
        "colab": {
          "base_uri": "https://localhost:8080/",
          "height": 34
        }
      },
      "source": [
        "(defn matching-part [part]\n",
        "  {:name (clojure.string/replace (:name part) #\"^left-\" \"right-\") \n",
        "   :size (:size part)})\n",
        "   \n",
        "(matching-part (get asym-hobbit-body-parts 2))"
      ],
      "execution_count": 0,
      "outputs": [
        {
          "output_type": "execute_result",
          "data": {
            "text/iclojure-html": "<ul><li class=map>{<ul><li><ul><li class=keyword>:name<li class=space> <li class='string'>\"right-ear\"<li class=trail>,</ul><li class=space> <li><ul><li class=keyword>:size<li class=space> <li class='misc'>1</ul><li class=trail>}</ul></ul>",
            "text/plain": [
              "\u001b[2m{\u001b[22m\u001b[36m:name\u001b[m \"right-ear\"\u001b[2m,\u001b[22m \u001b[36m:size\u001b[m 1\u001b[2m}\u001b[22m\n"
            ],
            "application/octet-stream": null
          },
          "metadata": {
            "tags": []
          },
          "execution_count": 69
        }
      ]
    },
    {
      "cell_type": "code",
      "metadata": {
        "colab_type": "code",
        "outputId": "da47b929-f601-40e8-b48f-b7c04a525b14",
        "id": "ZthVMmvPaDmO",
        "colab": {
          "base_uri": "https://localhost:8080/",
          "height": 104
        }
      },
      "source": [
        "(defn symmetrize-body-parts\n",
        "  [asym-body-parts]\n",
        "  (loop [remaining-parts asym-body-parts final-parts []]\n",
        "    (if (empty? remaining-parts)\n",
        "      final-parts\n",
        "      (let [[part & remaining] remaining-parts]\n",
        "        (recur remaining\n",
        "               (into final-parts (set [part (matching-part part)])))))))\n",
        "               \n",
        "(symmetrize-body-parts asym-hobbit-body-parts)"
      ],
      "execution_count": 0,
      "outputs": [
        {
          "output_type": "execute_result",
          "data": {
            "text/iclojure-html": "<ul><li class=vector>[<ul><li class=map>{<ul><li><ul><li class=keyword>:name<li class=space> <li class='string'>\"head\"<li class=trail>,</ul><li class=space> <li><ul><li class=keyword>:size<li class=space> <li class='misc'>3</ul><li class=trail>}</ul><li class=space> <li class=map>{<ul><li><ul><li class=keyword>:name<li class=space> <li class='string'>\"left-eye\"<li class=trail>,</ul><li class=space> <li><ul><li class=keyword>:size<li class=space> <li class='misc'>1</ul><li class=trail>}</ul><li class=space> <li class=map>{<ul><li><ul><li class=keyword>:name<li class=space> <li class='string'>\"right-eye\"<li class=trail>,</ul><li class=space> <li><ul><li class=keyword>:size<li class=space> <li class='misc'>1</ul><li class=trail>}</ul><li class=space> <li class=map>{<ul><li><ul><li class=keyword>:name<li class=space> <li class='string'>\"left-ear\"<li class=trail>,</ul><li class=space> <li><ul><li class=keyword>:size<li class=space> <li class='misc'>1</ul><li class=trail>}</ul><li class=space> <li class=map>{<ul><li><ul><li class=keyword>:name<li class=space> <li class='string'>\"right-ear\"<li class=trail>,</ul><li class=space> <li><ul><li class=keyword>:size<li class=space> <li class='misc'>1</ul><li class=trail>}</ul><li class=space> <li class=map>{<ul><li><ul><li class=keyword>:name<li class=space> <li class='string'>\"mouth\"<li class=trail>,</ul><li class=space> <li><ul><li class=keyword>:size<li class=space> <li class='misc'>1</ul><li class=trail>}</ul><li class=space> <li class=map>{<ul><li><ul><li class=keyword>:name<li class=space> <li class='string'>\"nose\"<li class=trail>,</ul><li class=space> <li><ul><li class=keyword>:size<li class=space> <li class='misc'>1</ul><li class=trail>}</ul><li class=space> <li class=map>{<ul><li><ul><li class=keyword>:name<li class=space> <li class='string'>\"neck\"<li class=trail>,</ul><li class=space> <li><ul><li class=keyword>:size<li class=space> <li class='misc'>2</ul><li class=trail>}</ul><li class=space> <li class=map>{<ul><li><ul><li class=keyword>:name<li class=space> <li class='string'>\"left-shoulder\"<li class=trail>,</ul><li class=space> <li><ul><li class=keyword>:size<li class=space> <li class='misc'>3</ul><li class=trail>}</ul><li class=space> <li class=map>{<ul><li><ul><li class=keyword>:name<li class=space> <li class='string'>\"right-shoulder\"<li class=trail>,</ul><li class=space> <li><ul><li class=keyword>:size<li class=space> <li class='misc'>3</ul><li class=trail>}</ul><li class=space> <li class=elision data-expr='(unrepl.repl$p8QhJwTpu2S19yqqZbyXWLOYcI8/fetch :G__1424)'>…<li class=trail>]</ul></ul>",
            "text/plain": [
              "\u001b[2m[\u001b[22m\u001b[2m{\u001b[22m\u001b[36m:name\u001b[m \"head\"\u001b[2m,\u001b[22m \u001b[36m:size\u001b[m 3\u001b[2m}\u001b[22m \u001b[2m{\u001b[22m\u001b[36m:name\u001b[m \"left-eye\"\u001b[2m,\u001b[22m \u001b[36m:size\u001b[m 1\u001b[2m}\u001b[22m\n",
              " \u001b[2m{\u001b[22m\u001b[36m:name\u001b[m \"right-eye\"\u001b[2m,\u001b[22m \u001b[36m:size\u001b[m 1\u001b[2m}\u001b[22m \u001b[2m{\u001b[22m\u001b[36m:name\u001b[m \"left-ear\"\u001b[2m,\u001b[22m \u001b[36m:size\u001b[m 1\u001b[2m}\u001b[22m\n",
              " \u001b[2m{\u001b[22m\u001b[36m:name\u001b[m \"right-ear\"\u001b[2m,\u001b[22m \u001b[36m:size\u001b[m 1\u001b[2m}\u001b[22m \u001b[2m{\u001b[22m\u001b[36m:name\u001b[m \"mouth\"\u001b[2m,\u001b[22m \u001b[36m:size\u001b[m 1\u001b[2m}\u001b[22m\n",
              " \u001b[2m{\u001b[22m\u001b[36m:name\u001b[m \"nose\"\u001b[2m,\u001b[22m \u001b[36m:size\u001b[m 1\u001b[2m}\u001b[22m \u001b[2m{\u001b[22m\u001b[36m:name\u001b[m \"neck\"\u001b[2m,\u001b[22m \u001b[36m:size\u001b[m 2\u001b[2m}\u001b[22m\n",
              " \u001b[2m{\u001b[22m\u001b[36m:name\u001b[m \"left-shoulder\"\u001b[2m,\u001b[22m \u001b[36m:size\u001b[m 3\u001b[2m}\u001b[22m \u001b[2m{\u001b[22m\u001b[36m:name\u001b[m \"right-shoulder\"\u001b[2m,\u001b[22m \u001b[36m:size\u001b[m 3\u001b[2m}\u001b[22m \u001b[4m/9\u001b[m\u001b[2m]\u001b[22m\n"
            ],
            "application/octet-stream": null
          },
          "metadata": {
            "tags": []
          },
          "execution_count": 71
        }
      ]
    },
    {
      "cell_type": "markdown",
      "metadata": {
        "id": "UAL-frANp2ut",
        "colab_type": "text"
      },
      "source": [
        "#### Reduce"
      ]
    },
    {
      "cell_type": "markdown",
      "metadata": {
        "id": "n5oq5Ligp88T",
        "colab_type": "text"
      },
      "source": [
        "```\n",
        "(reduce f coll)(reduce f val coll)\n",
        "\n",
        "```\n",
        "f should be a function of 2 arguments. If val is not supplied,\n",
        "returns the result of applying f to the first 2 items in coll, then\n",
        "applying f to that result and the 3rd item, etc. If coll contains no\n",
        "items, f must accept no arguments as well, and reduce returns the\n",
        "result of calling f with no arguments.  If coll has only 1 item, it\n",
        "is returned and f is not called.  If val is supplied, returns the\n",
        "result of applying f to val and the first item in coll, then\n",
        "applying f to that result and the 2nd item, etc. If coll contains no\n",
        "items, returns val and f is not called. \\\n",
        "From: https://clojuredocs.org/clojure.core/reduce"
      ]
    },
    {
      "cell_type": "code",
      "metadata": {
        "id": "pIZP6VZJqxBv",
        "colab_type": "code",
        "outputId": "f097bab9-993b-4387-c498-89c353d6fe96",
        "colab": {
          "base_uri": "https://localhost:8080/",
          "height": 34
        }
      },
      "source": [
        "(reduce + [1 2 3 4])"
      ],
      "execution_count": 0,
      "outputs": [
        {
          "output_type": "execute_result",
          "data": {
            "text/iclojure-html": "<ul><li class='misc'>10</ul>",
            "text/plain": [
              "10\n"
            ],
            "application/octet-stream": null
          },
          "metadata": {
            "tags": []
          },
          "execution_count": 4
        }
      ]
    },
    {
      "cell_type": "code",
      "metadata": {
        "colab_type": "code",
        "outputId": "57760d3b-d0ca-43ef-edca-93ea99c522df",
        "id": "VVHwUMcfx_eu",
        "colab": {
          "base_uri": "https://localhost:8080/",
          "height": 34
        }
      },
      "source": [
        "(reduce + 5 [1 2 3 4])"
      ],
      "execution_count": 0,
      "outputs": [
        {
          "output_type": "execute_result",
          "data": {
            "text/iclojure-html": "<ul><li class='misc'>15</ul>",
            "text/plain": [
              "15\n"
            ],
            "application/octet-stream": null
          },
          "metadata": {
            "tags": []
          },
          "execution_count": 24
        }
      ]
    },
    {
      "cell_type": "code",
      "metadata": {
        "id": "iTlMNZruwEKV",
        "colab_type": "code",
        "outputId": "3957a058-4da8-4f45-cb85-0ed5e068cff6",
        "colab": {
          "base_uri": "https://localhost:8080/",
          "height": 34
        }
      },
      "source": [
        "(reduce conj [] [1 2 3 4])"
      ],
      "execution_count": 0,
      "outputs": [
        {
          "output_type": "execute_result",
          "data": {
            "text/iclojure-html": "<ul><li class=vector>[<ul><li class='misc'>1<li class=space> <li class='misc'>2<li class=space> <li class='misc'>3<li class=space> <li class='misc'>4<li class=trail>]</ul></ul>",
            "text/plain": [
              "\u001b[2m[\u001b[22m1 2 3 4\u001b[2m]\u001b[22m\n"
            ],
            "application/octet-stream": null
          },
          "metadata": {
            "tags": []
          },
          "execution_count": 22
        }
      ]
    },
    {
      "cell_type": "code",
      "metadata": {
        "id": "Tyk_nI2cwKKb",
        "colab_type": "code",
        "outputId": "b1ae935a-04cd-453e-b9b2-9fa8d4d16fa2",
        "colab": {
          "base_uri": "https://localhost:8080/",
          "height": 34
        }
      },
      "source": [
        "(reduce conj [7 6 5] [1 2 3 4])"
      ],
      "execution_count": 0,
      "outputs": [
        {
          "output_type": "execute_result",
          "data": {
            "text/iclojure-html": "<ul><li class=vector>[<ul><li class='misc'>7<li class=space> <li class='misc'>6<li class=space> <li class='misc'>5<li class=space> <li class='misc'>1<li class=space> <li class='misc'>2<li class=space> <li class='misc'>3<li class=space> <li class='misc'>4<li class=trail>]</ul></ul>",
            "text/plain": [
              "\u001b[2m[\u001b[22m7 6 5 1 2 3 4\u001b[2m]\u001b[22m\n"
            ],
            "application/octet-stream": null
          },
          "metadata": {
            "tags": []
          },
          "execution_count": 8
        }
      ]
    },
    {
      "cell_type": "code",
      "metadata": {
        "id": "Ygi7WBP_wNu5",
        "colab_type": "code",
        "outputId": "f96e461e-df85-4ebe-f85a-058181fbfd63",
        "colab": {
          "base_uri": "https://localhost:8080/",
          "height": 34
        }
      },
      "source": [
        "(reduce #(* (+ %1 %2) 2) [1 2 3 4])"
      ],
      "execution_count": 0,
      "outputs": [
        {
          "output_type": "execute_result",
          "data": {
            "text/iclojure-html": "<ul><li class='misc'>44</ul>",
            "text/plain": [
              "44\n"
            ],
            "application/octet-stream": null
          },
          "metadata": {
            "tags": []
          },
          "execution_count": 11
        }
      ]
    },
    {
      "cell_type": "markdown",
      "metadata": {
        "id": "P5R84iMI6e7e",
        "colab_type": "text"
      },
      "source": [
        "Writing the hobbit exercise in a more concise way, using reduce:"
      ]
    },
    {
      "cell_type": "code",
      "metadata": {
        "id": "d2zv-bLR6kIk",
        "colab_type": "code",
        "outputId": "a56e5c19-3fd1-447c-f190-15ffffe5fdeb",
        "colab": {
          "base_uri": "https://localhost:8080/",
          "height": 104
        }
      },
      "source": [
        "(defn marina-better-symmetrize-body-parts\n",
        "  [asym-body-parts]\n",
        "  (reduce (fn [final-parts part]                            ;my function here must obey the order [val coll], val meaning initial value, coll meaning a collection\n",
        "            (into final-parts (set [part (matching-part part)])))\n",
        "          []                                                ;val - my initial value is an empty vector\n",
        "          asym-body-parts                                   ;coll - my collection that will be iterated is a collection of maps\n",
        "          ))\n",
        "(marina-better-symmetrize-body-parts asym-hobbit-body-parts)"
      ],
      "execution_count": 0,
      "outputs": [
        {
          "output_type": "execute_result",
          "data": {
            "text/iclojure-html": "<ul><li class=vector>[<ul><li class=map>{<ul><li><ul><li class=keyword>:name<li class=space> <li class='string'>\"head\"<li class=trail>,</ul><li class=space> <li><ul><li class=keyword>:size<li class=space> <li class='misc'>3</ul><li class=trail>}</ul><li class=space> <li class=map>{<ul><li><ul><li class=keyword>:name<li class=space> <li class='string'>\"left-eye\"<li class=trail>,</ul><li class=space> <li><ul><li class=keyword>:size<li class=space> <li class='misc'>1</ul><li class=trail>}</ul><li class=space> <li class=map>{<ul><li><ul><li class=keyword>:name<li class=space> <li class='string'>\"right-eye\"<li class=trail>,</ul><li class=space> <li><ul><li class=keyword>:size<li class=space> <li class='misc'>1</ul><li class=trail>}</ul><li class=space> <li class=map>{<ul><li><ul><li class=keyword>:name<li class=space> <li class='string'>\"left-ear\"<li class=trail>,</ul><li class=space> <li><ul><li class=keyword>:size<li class=space> <li class='misc'>1</ul><li class=trail>}</ul><li class=space> <li class=map>{<ul><li><ul><li class=keyword>:name<li class=space> <li class='string'>\"right-ear\"<li class=trail>,</ul><li class=space> <li><ul><li class=keyword>:size<li class=space> <li class='misc'>1</ul><li class=trail>}</ul><li class=space> <li class=map>{<ul><li><ul><li class=keyword>:name<li class=space> <li class='string'>\"mouth\"<li class=trail>,</ul><li class=space> <li><ul><li class=keyword>:size<li class=space> <li class='misc'>1</ul><li class=trail>}</ul><li class=space> <li class=map>{<ul><li><ul><li class=keyword>:name<li class=space> <li class='string'>\"nose\"<li class=trail>,</ul><li class=space> <li><ul><li class=keyword>:size<li class=space> <li class='misc'>1</ul><li class=trail>}</ul><li class=space> <li class=map>{<ul><li><ul><li class=keyword>:name<li class=space> <li class='string'>\"neck\"<li class=trail>,</ul><li class=space> <li><ul><li class=keyword>:size<li class=space> <li class='misc'>2</ul><li class=trail>}</ul><li class=space> <li class=map>{<ul><li><ul><li class=keyword>:name<li class=space> <li class='string'>\"left-shoulder\"<li class=trail>,</ul><li class=space> <li><ul><li class=keyword>:size<li class=space> <li class='misc'>3</ul><li class=trail>}</ul><li class=space> <li class=map>{<ul><li><ul><li class=keyword>:name<li class=space> <li class='string'>\"right-shoulder\"<li class=trail>,</ul><li class=space> <li><ul><li class=keyword>:size<li class=space> <li class='misc'>3</ul><li class=trail>}</ul><li class=space> <li class=elision data-expr='(unrepl.repl$p8QhJwTpu2S19yqqZbyXWLOYcI8/fetch :G__1448)'>…<li class=trail>]</ul></ul>",
            "text/plain": [
              "\u001b[2m[\u001b[22m\u001b[2m{\u001b[22m\u001b[36m:name\u001b[m \"head\"\u001b[2m,\u001b[22m \u001b[36m:size\u001b[m 3\u001b[2m}\u001b[22m \u001b[2m{\u001b[22m\u001b[36m:name\u001b[m \"left-eye\"\u001b[2m,\u001b[22m \u001b[36m:size\u001b[m 1\u001b[2m}\u001b[22m\n",
              " \u001b[2m{\u001b[22m\u001b[36m:name\u001b[m \"right-eye\"\u001b[2m,\u001b[22m \u001b[36m:size\u001b[m 1\u001b[2m}\u001b[22m \u001b[2m{\u001b[22m\u001b[36m:name\u001b[m \"left-ear\"\u001b[2m,\u001b[22m \u001b[36m:size\u001b[m 1\u001b[2m}\u001b[22m\n",
              " \u001b[2m{\u001b[22m\u001b[36m:name\u001b[m \"right-ear\"\u001b[2m,\u001b[22m \u001b[36m:size\u001b[m 1\u001b[2m}\u001b[22m \u001b[2m{\u001b[22m\u001b[36m:name\u001b[m \"mouth\"\u001b[2m,\u001b[22m \u001b[36m:size\u001b[m 1\u001b[2m}\u001b[22m\n",
              " \u001b[2m{\u001b[22m\u001b[36m:name\u001b[m \"nose\"\u001b[2m,\u001b[22m \u001b[36m:size\u001b[m 1\u001b[2m}\u001b[22m \u001b[2m{\u001b[22m\u001b[36m:name\u001b[m \"neck\"\u001b[2m,\u001b[22m \u001b[36m:size\u001b[m 2\u001b[2m}\u001b[22m\n",
              " \u001b[2m{\u001b[22m\u001b[36m:name\u001b[m \"left-shoulder\"\u001b[2m,\u001b[22m \u001b[36m:size\u001b[m 3\u001b[2m}\u001b[22m \u001b[2m{\u001b[22m\u001b[36m:name\u001b[m \"right-shoulder\"\u001b[2m,\u001b[22m \u001b[36m:size\u001b[m 3\u001b[2m}\u001b[22m \u001b[4m/10\u001b[m\u001b[2m]\u001b[22m\n"
            ],
            "application/octet-stream": null
          },
          "metadata": {
            "tags": []
          },
          "execution_count": 73
        }
      ]
    },
    {
      "cell_type": "markdown",
      "metadata": {
        "id": "mvmStDC6gcz3",
        "colab_type": "text"
      },
      "source": [
        "#### Hitting the Hobbit"
      ]
    },
    {
      "cell_type": "code",
      "metadata": {
        "id": "e9nwr748gfcW",
        "colab_type": "code",
        "outputId": "c4432a19-4eb3-4791-8c85-53fa520367ca",
        "colab": {
          "base_uri": "https://localhost:8080/",
          "height": 52
        }
      },
      "source": [
        "(defn hit-marina [asym-parts]\n",
        "  (let [sym-parts (marina-better-symmetrize-body-parts asym-parts)\n",
        "        randTarget (rand (reduce + (map :size sym-parts)))\n",
        "        ]\n",
        "    (println (str \"Random number to check: \" randTarget))\n",
        "    (loop [[curr & remaining] sym-parts\n",
        "          sumNumTarget (:size curr)\n",
        "          ]\n",
        "     (if (> sumNumTarget randTarget)\n",
        "       curr\n",
        "       (recur remaining  (+ sumNumTarget (:size (first remaining)))))\n",
        "     ))\n",
        "  )\n",
        "  \n",
        "(hit-marina asym-hobbit-body-parts)  "
      ],
      "execution_count": 0,
      "outputs": [
        {
          "output_type": "stream",
          "text": [
            "Random number to check: 68.11831454038149\n"
          ],
          "name": "stdout"
        },
        {
          "output_type": "execute_result",
          "data": {
            "text/iclojure-html": "<ul><li class=map>{<ul><li><ul><li class=keyword>:name<li class=space> <li class='string'>\"right-thigh\"<li class=trail>,</ul><li class=space> <li><ul><li class=keyword>:size<li class=space> <li class='misc'>4</ul><li class=trail>}</ul></ul>",
            "text/plain": [
              "\u001b[2m{\u001b[22m\u001b[36m:name\u001b[m \"right-thigh\"\u001b[2m,\u001b[22m \u001b[36m:size\u001b[m 4\u001b[2m}\u001b[22m\n"
            ],
            "application/octet-stream": null
          },
          "metadata": {
            "tags": []
          },
          "execution_count": 175
        }
      ]
    },
    {
      "cell_type": "markdown",
      "metadata": {
        "id": "Hc-f7xa0o5E0",
        "colab_type": "text"
      },
      "source": [
        "## Core Functions in Depth"
      ]
    },
    {
      "cell_type": "markdown",
      "metadata": {
        "id": "iryL7ZQApiyY",
        "colab_type": "text"
      },
      "source": [
        "### Seq Function Examples"
      ]
    },
    {
      "cell_type": "markdown",
      "metadata": {
        "id": "Q8jUdEIToBRx",
        "colab_type": "text"
      },
      "source": [
        "#### Core sequence functions"
      ]
    },
    {
      "cell_type": "markdown",
      "metadata": {
        "id": "YEydzBcdoD5Y",
        "colab_type": "text"
      },
      "source": [
        "If the core sequence functions ***first, rest*** and ***cons*** work on a data structure, you can say the data structure *implements* the ***sequence abstraction***. It means that this data structure can be used with map, reduce, etc. Lists, vectors, sets and maps all implements sequence abstraction."
      ]
    },
    {
      "cell_type": "code",
      "metadata": {
        "id": "YTH7jzvepA1L",
        "colab_type": "code",
        "outputId": "3aa8df11-c9f2-4256-84df-f4531e12422c",
        "colab": {
          "base_uri": "https://localhost:8080/",
          "height": 86
        }
      },
      "source": [
        "(def meu-array [1 2 3 4 5 6 7])\n",
        "(println (rest meu-array))\n",
        "(println (first meu-array))\n",
        "(println (cons 0 meu-array))"
      ],
      "execution_count": 0,
      "outputs": [
        {
          "output_type": "stream",
          "text": [
            "(2 3 4 5 6 7)\n",
            "1\n",
            "(0 1 2 3 4 5 6 7)\n"
          ],
          "name": "stdout"
        },
        {
          "output_type": "execute_result",
          "data": {
            "text/iclojure-html": "<ul><li class='misc'>nil</ul>",
            "text/plain": [
              "nil\n"
            ],
            "application/octet-stream": null
          },
          "metadata": {
            "tags": []
          },
          "execution_count": 28
        }
      ]
    },
    {
      "cell_type": "markdown",
      "metadata": {
        "id": "GerEybhL8evU",
        "colab_type": "text"
      },
      "source": [
        "Indirection is what makes abstraction possible. The ways Clojure provides indirection are:\n",
        "- Using polymorphism\n",
        "- By doing a kind of lightweight type conversion"
      ]
    },
    {
      "cell_type": "markdown",
      "metadata": {
        "id": "SVEJfgup7efJ",
        "colab_type": "text"
      },
      "source": [
        "When it comes to sequences, Clojure also creates *indirection* by doing a kind of lightweight type conversion, producing a data structure that works with an abstraction’s functions. Whenever Clojure expects a sequence—for example, when you call *map, first, rest, or cons*—it calls the ***seq*** *function* on the data structure in question to obtain a data structure that allows for *first, rest, and cons*:"
      ]
    },
    {
      "cell_type": "code",
      "metadata": {
        "id": "oDiPI9tC7qxH",
        "colab_type": "code",
        "outputId": "d7d21829-2c2a-4651-d962-e5b5e51a06ad",
        "colab": {
          "base_uri": "https://localhost:8080/",
          "height": 34
        }
      },
      "source": [
        "(seq '(1 2 3))"
      ],
      "execution_count": 0,
      "outputs": [
        {
          "output_type": "execute_result",
          "data": {
            "text/iclojure-html": "<ul><li class=seq>(<ul><li class='misc'>1<li class=space> <li class='misc'>2<li class=space> <li class='misc'>3<li class=trail>)</ul></ul>",
            "text/plain": [
              "\u001b[2m(\u001b[22m1 2 3\u001b[2m)\u001b[22m\n"
            ],
            "application/octet-stream": null
          },
          "metadata": {
            "tags": []
          },
          "execution_count": 533
        }
      ]
    },
    {
      "cell_type": "code",
      "metadata": {
        "colab_type": "code",
        "outputId": "2ccf44ee-41bf-49dd-a73d-8bd6512fec36",
        "id": "ea6nGM_E7zBm",
        "colab": {
          "base_uri": "https://localhost:8080/",
          "height": 34
        }
      },
      "source": [
        "(seq [1 2 3])"
      ],
      "execution_count": 0,
      "outputs": [
        {
          "output_type": "execute_result",
          "data": {
            "text/iclojure-html": "<ul><li class=seq>(<ul><li class='misc'>1<li class=space> <li class='misc'>2<li class=space> <li class='misc'>3<li class=trail>)</ul></ul>",
            "text/plain": [
              "\u001b[2m(\u001b[22m1 2 3\u001b[2m)\u001b[22m\n"
            ],
            "application/octet-stream": null
          },
          "metadata": {
            "tags": []
          },
          "execution_count": 535
        }
      ]
    },
    {
      "cell_type": "code",
      "metadata": {
        "colab_type": "code",
        "outputId": "1be64cf8-26fe-409c-e08f-69d5768d071d",
        "id": "azJDaP9K7ztO",
        "colab": {
          "base_uri": "https://localhost:8080/",
          "height": 34
        }
      },
      "source": [
        "(seq #{1 2 3})"
      ],
      "execution_count": 0,
      "outputs": [
        {
          "output_type": "execute_result",
          "data": {
            "text/iclojure-html": "<ul><li class=seq>(<ul><li class='misc'>1<li class=space> <li class='misc'>3<li class=space> <li class='misc'>2<li class=trail>)</ul></ul>",
            "text/plain": [
              "\u001b[2m(\u001b[22m1 3 2\u001b[2m)\u001b[22m\n"
            ],
            "application/octet-stream": null
          },
          "metadata": {
            "tags": []
          },
          "execution_count": 540
        }
      ]
    },
    {
      "cell_type": "code",
      "metadata": {
        "colab_type": "code",
        "outputId": "820d984d-5786-4ad9-dea8-4136b6f1cb87",
        "id": "QTNjNejn7z5s",
        "colab": {
          "base_uri": "https://localhost:8080/",
          "height": 34
        }
      },
      "source": [
        "(seq {:name \"Bill Compton\" :occupation \"Dead mopey guy\"})"
      ],
      "execution_count": 0,
      "outputs": [
        {
          "output_type": "execute_result",
          "data": {
            "text/iclojure-html": "<ul><li class=seq>(<ul><li class=vector>[<ul><li class=keyword>:name<li class=space> <li class='string'>\"Bill Compton\"<li class=trail>]</ul><li class=space> <li class=vector>[<ul><li class=keyword>:occupation<li class=space> <li class='string'>\"Dead mopey guy\"<li class=trail>]</ul><li class=trail>)</ul></ul>",
            "text/plain": [
              "\u001b[2m(\u001b[22m\u001b[2m[\u001b[22m\u001b[36m:name\u001b[m \"Bill Compton\"\u001b[2m]\u001b[22m \u001b[2m[\u001b[22m\u001b[36m:occupation\u001b[m \"Dead mopey guy\"\u001b[2m]\u001b[22m\u001b[2m)\u001b[22m\n"
            ],
            "application/octet-stream": null
          },
          "metadata": {
            "tags": []
          },
          "execution_count": 542
        }
      ]
    },
    {
      "cell_type": "markdown",
      "metadata": {
        "id": "yN9T577Oppy0",
        "colab_type": "text"
      },
      "source": [
        "#### Map"
      ]
    },
    {
      "cell_type": "code",
      "metadata": {
        "id": "SJgFF8R2pKrZ",
        "colab_type": "code",
        "outputId": "8e73fa1d-eb9f-44ad-ce2f-ae67ebb08cbf",
        "colab": {
          "base_uri": "https://localhost:8080/",
          "height": 34
        }
      },
      "source": [
        "(map inc [1 2 3 4])"
      ],
      "execution_count": 0,
      "outputs": [
        {
          "output_type": "execute_result",
          "data": {
            "text/iclojure-html": "<ul><li class=seq>(<ul><li class='misc'>2<li class=space> <li class='misc'>3<li class=space> <li class='misc'>4<li class=space> <li class='misc'>5<li class=trail>)</ul></ul>",
            "text/plain": [
              "\u001b[2m(\u001b[22m2 3 4 5\u001b[2m)\u001b[22m\n"
            ],
            "application/octet-stream": null
          },
          "metadata": {
            "tags": []
          },
          "execution_count": 9
        }
      ]
    },
    {
      "cell_type": "code",
      "metadata": {
        "id": "Pc5VXazGpPXi",
        "colab_type": "code",
        "outputId": "52a1d85b-7565-4291-9148-10c3a189d13b",
        "colab": {
          "base_uri": "https://localhost:8080/",
          "height": 34
        }
      },
      "source": [
        "(map #(* (+ % 1) 2) [1 2 3 4])"
      ],
      "execution_count": 0,
      "outputs": [
        {
          "output_type": "execute_result",
          "data": {
            "text/iclojure-html": "<ul><li class=seq>(<ul><li class='misc'>4<li class=space> <li class='misc'>6<li class=space> <li class='misc'>8<li class=space> <li class='misc'>10<li class=trail>)</ul></ul>",
            "text/plain": [
              "\u001b[2m(\u001b[22m4 6 8 10\u001b[2m)\u001b[22m\n"
            ],
            "application/octet-stream": null
          },
          "metadata": {
            "tags": []
          },
          "execution_count": 11
        }
      ]
    },
    {
      "cell_type": "code",
      "metadata": {
        "id": "4V3M3UaopU8Y",
        "colab_type": "code",
        "colab": {}
      },
      "source": [
        "Map with two collections as argument."
      ],
      "execution_count": 0,
      "outputs": []
    },
    {
      "cell_type": "code",
      "metadata": {
        "id": "dhBT2R9bpyDh",
        "colab_type": "code",
        "outputId": "d89f64f1-3b77-492b-f683-e62d18141729",
        "colab": {
          "base_uri": "https://localhost:8080/",
          "height": 34
        }
      },
      "source": [
        "(map #(+ %1 %2) [1 2 3 4] [5 6 7 8])"
      ],
      "execution_count": 0,
      "outputs": [
        {
          "output_type": "execute_result",
          "data": {
            "text/iclojure-html": "<ul><li class=seq>(<ul><li class='misc'>6<li class=space> <li class='misc'>8<li class=space> <li class='misc'>10<li class=space> <li class='misc'>12<li class=trail>)</ul></ul>",
            "text/plain": [
              "\u001b[2m(\u001b[22m6 8 10 12\u001b[2m)\u001b[22m\n"
            ],
            "application/octet-stream": null
          },
          "metadata": {
            "tags": []
          },
          "execution_count": 21
        }
      ]
    },
    {
      "cell_type": "markdown",
      "metadata": {
        "id": "LvWWSm1NqwYm",
        "colab_type": "text"
      },
      "source": [
        "Se passar collections de tamanhos diferentes, náo dá erro."
      ]
    },
    {
      "cell_type": "code",
      "metadata": {
        "id": "LEa0I0TKq0_u",
        "colab_type": "code",
        "outputId": "33e9428a-d959-4235-9b6b-3ca2fd2ccc4d",
        "colab": {
          "base_uri": "https://localhost:8080/",
          "height": 34
        }
      },
      "source": [
        "(map #(+ %1 %2) [1 2 3 4] [5 6 7 8 9])"
      ],
      "execution_count": 0,
      "outputs": [
        {
          "output_type": "execute_result",
          "data": {
            "text/iclojure-html": "<ul><li class=seq>(<ul><li class='misc'>6<li class=space> <li class='misc'>8<li class=space> <li class='misc'>10<li class=space> <li class='misc'>12<li class=trail>)</ul></ul>",
            "text/plain": [
              "\u001b[2m(\u001b[22m6 8 10 12\u001b[2m)\u001b[22m\n"
            ],
            "application/octet-stream": null
          },
          "metadata": {
            "tags": []
          },
          "execution_count": 29
        }
      ]
    },
    {
      "cell_type": "code",
      "metadata": {
        "id": "v2XV3eHkrQ-N",
        "colab_type": "code",
        "outputId": "d4de4a81-7e42-45d6-d233-4b5f38a15d8b",
        "colab": {
          "base_uri": "https://localhost:8080/",
          "height": 52
        }
      },
      "source": [
        "(def chaves-dias [\"dia\" \"semana\" \"mes\" \"ano\"])\n",
        "(def valor-dias [1 7 30 365])\n",
        "\n",
        "(defn link-name-value [day-key day-value]\n",
        "  {:keey day-key :vaal day-value})\n",
        "\n",
        "(link-name-value \"dia\" 1)\n",
        "(print \"nova linha\")\n",
        "(map link-name-value chaves-dias valor-dias)"
      ],
      "execution_count": 0,
      "outputs": [
        {
          "output_type": "stream",
          "text": [
            "nova linha"
          ],
          "name": "stdout"
        },
        {
          "output_type": "execute_result",
          "data": {
            "text/iclojure-html": "<ul><li class=seq>(<ul><li class=map>{<ul><li><ul><li class=keyword>:keey<li class=space> <li class='string'>\"dia\"<li class=trail>,</ul><li class=space> <li><ul><li class=keyword>:vaal<li class=space> <li class='misc'>1</ul><li class=trail>}</ul><li class=space> <li class=map>{<ul><li><ul><li class=keyword>:keey<li class=space> <li class='string'>\"semana\"<li class=trail>,</ul><li class=space> <li><ul><li class=keyword>:vaal<li class=space> <li class='misc'>7</ul><li class=trail>}</ul><li class=space> <li class=map>{<ul><li><ul><li class=keyword>:keey<li class=space> <li class='string'>\"mes\"<li class=trail>,</ul><li class=space> <li><ul><li class=keyword>:vaal<li class=space> <li class='misc'>30</ul><li class=trail>}</ul><li class=space> <li class=map>{<ul><li><ul><li class=keyword>:keey<li class=space> <li class='string'>\"ano\"<li class=trail>,</ul><li class=space> <li><ul><li class=keyword>:vaal<li class=space> <li class='misc'>365</ul><li class=trail>}</ul><li class=trail>)</ul></ul>",
            "text/plain": [
              "\u001b[2m(\u001b[22m\u001b[2m{\u001b[22m\u001b[36m:keey\u001b[m \"dia\"\u001b[2m,\u001b[22m \u001b[36m:vaal\u001b[m 1\u001b[2m}\u001b[22m \u001b[2m{\u001b[22m\u001b[36m:keey\u001b[m \"semana\"\u001b[2m,\u001b[22m \u001b[36m:vaal\u001b[m 7\u001b[2m}\u001b[22m\n",
              " \u001b[2m{\u001b[22m\u001b[36m:keey\u001b[m \"mes\"\u001b[2m,\u001b[22m \u001b[36m:vaal\u001b[m 30\u001b[2m}\u001b[22m \u001b[2m{\u001b[22m\u001b[36m:keey\u001b[m \"ano\"\u001b[2m,\u001b[22m \u001b[36m:vaal\u001b[m 365\u001b[2m}\u001b[22m\u001b[2m)\u001b[22m\n"
            ],
            "application/octet-stream": null
          },
          "metadata": {
            "tags": []
          },
          "execution_count": 83
        }
      ]
    },
    {
      "cell_type": "markdown",
      "metadata": {
        "id": "H_MlatWxsbtu",
        "colab_type": "text"
      },
      "source": [
        "Passing a collection of functions to map."
      ]
    },
    {
      "cell_type": "code",
      "metadata": {
        "id": "DsydLe1LsfkF",
        "colab_type": "code",
        "outputId": "ced1b5c4-276e-443e-c40b-a1b623acff1c",
        "colab": {
          "base_uri": "https://localhost:8080/",
          "height": 34
        }
      },
      "source": [
        "(def sum #(reduce + %))\n",
        "(def avg #(/ (sum %) (count %)))\n",
        "(defn my-func [my-vector]\n",
        " (map #(% my-vector) [sum count avg]))\n",
        "(my-func [1 2 3])"
      ],
      "execution_count": 0,
      "outputs": [
        {
          "output_type": "execute_result",
          "data": {
            "text/iclojure-html": "<ul><li class=seq>(<ul><li class='misc'>6<li class=space> <li class='misc'>3<li class=space> <li class='misc'>2<li class=trail>)</ul></ul>",
            "text/plain": [
              "\u001b[2m(\u001b[22m6 3 2\u001b[2m)\u001b[22m\n"
            ],
            "application/octet-stream": null
          },
          "metadata": {
            "tags": []
          },
          "execution_count": 61
        }
      ]
    },
    {
      "cell_type": "code",
      "metadata": {
        "id": "djPd2RwaXuOG",
        "colab_type": "code",
        "outputId": "3367f290-2f77-4c71-8306-5c436289f321",
        "colab": {
          "base_uri": "https://localhost:8080/",
          "height": 34
        }
      },
      "source": [
        "(def printt #(println %)) ;The printed string is not being shown here. But if you run this in an IDE, you will see it.\n",
        "(def aumenta-um #(inc %))\n",
        "(def conta-louca #(+ (* 2 %) 5))\n",
        "(defn map-na-func [num]\n",
        " (map #(% num) [printt aumenta-um conta-louca]))\n",
        "\n",
        "(map-na-func 1)"
      ],
      "execution_count": 0,
      "outputs": [
        {
          "output_type": "execute_result",
          "data": {
            "text/iclojure-html": "<ul><li class=seq>(<ul><li class='misc'>nil<li class=space> <li class='misc'>2<li class=space> <li class='misc'>7<li class=trail>)</ul></ul>",
            "text/plain": [
              "\u001b[2m(\u001b[22mnil 2 7\u001b[2m)\u001b[22m\n"
            ],
            "application/octet-stream": null
          },
          "metadata": {
            "tags": []
          },
          "execution_count": 104
        }
      ]
    },
    {
      "cell_type": "markdown",
      "metadata": {
        "id": "l0RQIfuAc4ei",
        "colab_type": "text"
      },
      "source": [
        "Map can also be used to return values from maps (data structure)."
      ]
    },
    {
      "cell_type": "code",
      "metadata": {
        "id": "6adfJGkDdCqk",
        "colab_type": "code",
        "outputId": "9e093b03-21c7-4664-bdac-d942b3f52830",
        "colab": {
          "base_uri": "https://localhost:8080/",
          "height": 34
        }
      },
      "source": [
        "(def identities \n",
        "  [{:alias \"Batman\" :real \"Bruce Wayne\"}\n",
        "  {:alias \"Spider-man\" :real \"Peter Park\"}\n",
        "  {:alias \"Santa\" :real \"Your mom\"}\n",
        "  {:alias \"Easter Bunny\" :real \"Your dad\"}]) \n",
        "  \n",
        "(map :real identities)"
      ],
      "execution_count": 0,
      "outputs": [
        {
          "output_type": "execute_result",
          "data": {
            "text/iclojure-html": "<ul><li class=seq>(<ul><li class='string'>\"Bruce Wayne\"<li class=space> <li class='string'>\"Peter Park\"<li class=space> <li class='string'>\"Your mom\"<li class=space> <li class='string'>\"Your dad\"<li class=trail>)</ul></ul>",
            "text/plain": [
              "\u001b[2m(\u001b[22m\"Bruce Wayne\" \"Peter Park\" \"Your mom\" \"Your dad\"\u001b[2m)\u001b[22m\n"
            ],
            "application/octet-stream": null
          },
          "metadata": {
            "tags": []
          },
          "execution_count": 127
        }
      ]
    },
    {
      "cell_type": "markdown",
      "metadata": {
        "id": "-6MRm9Rih68O",
        "colab_type": "text"
      },
      "source": [
        "#### Reduce"
      ]
    },
    {
      "cell_type": "markdown",
      "metadata": {
        "id": "pJXaOfxFh_Sw",
        "colab_type": "text"
      },
      "source": [
        "Before starting the \"reduce\" examples, I would like to show the \"assoc\" function, that is auto-explained with the following examples:"
      ]
    },
    {
      "cell_type": "code",
      "metadata": {
        "id": "BNpOCcjPh9B8",
        "colab_type": "code",
        "outputId": "39359b49-bd3f-48c4-9b85-8aaa2a70fb39",
        "colab": {
          "base_uri": "https://localhost:8080/",
          "height": 34
        }
      },
      "source": [
        "(assoc {} :chave \"valor\")"
      ],
      "execution_count": 0,
      "outputs": [
        {
          "output_type": "execute_result",
          "data": {
            "text/iclojure-html": "<ul><li class=map>{<ul><li><ul><li class=keyword>:chave<li class=space> <li class='string'>\"valor\"</ul><li class=trail>}</ul></ul>",
            "text/plain": [
              "\u001b[2m{\u001b[22m\u001b[36m:chave\u001b[m \"valor\"\u001b[2m}\u001b[22m\n"
            ],
            "application/octet-stream": null
          },
          "metadata": {
            "tags": []
          },
          "execution_count": 143
        }
      ]
    },
    {
      "cell_type": "code",
      "metadata": {
        "id": "nJmVX9hmivk9",
        "colab_type": "code",
        "outputId": "6c30f6e1-3843-46e7-c610-b9c1225b3564",
        "colab": {
          "base_uri": "https://localhost:8080/",
          "height": 34
        }
      },
      "source": [
        "(assoc {:key-ja-existente \"value ja existente\"} :nova-chave \"novo valor\")"
      ],
      "execution_count": 0,
      "outputs": [
        {
          "output_type": "execute_result",
          "data": {
            "text/iclojure-html": "<ul><li class=map>{<ul><li><ul><li class=keyword>:key-ja-existente<li class=space> <li class='string'>\"value ja existente\"<li class=trail>,</ul><li class=space> <li><ul><li class=keyword>:nova-chave<li class=space> <li class='string'>\"novo valor\"</ul><li class=trail>}</ul></ul>",
            "text/plain": [
              "\u001b[2m{\u001b[22m\u001b[36m:key-ja-existente\u001b[m \"value ja existente\"\u001b[2m,\u001b[22m \u001b[36m:nova-chave\u001b[m \"novo valor\"\u001b[2m}\u001b[22m\n"
            ],
            "application/octet-stream": null
          },
          "metadata": {
            "tags": []
          },
          "execution_count": 148
        }
      ]
    },
    {
      "cell_type": "markdown",
      "metadata": {
        "id": "V-Yuo1NMi8Z1",
        "colab_type": "text"
      },
      "source": [
        "Reduce is frequently used to modify the values of a map."
      ]
    },
    {
      "cell_type": "code",
      "metadata": {
        "id": "--61tk6wjNtL",
        "colab_type": "code",
        "outputId": "92b556d5-48a1-4e8c-b630-67a3ab79f9fc",
        "colab": {
          "base_uri": "https://localhost:8080/",
          "height": 34
        }
      },
      "source": [
        "(reduce (fn [my-map [keey vall]]\n",
        "  (assoc my-map keey (* 2 vall)))\n",
        "  {}\n",
        "  {:primeira-key 10 :segunda-key 3 :terceira-key 25})"
      ],
      "execution_count": 0,
      "outputs": [
        {
          "output_type": "execute_result",
          "data": {
            "text/iclojure-html": "<ul><li class=map>{<ul><li><ul><li class=keyword>:primeira-key<li class=space> <li class='misc'>20<li class=trail>,</ul><li class=space> <li><ul><li class=keyword>:segunda-key<li class=space> <li class='misc'>6<li class=trail>,</ul><li class=space> <li><ul><li class=keyword>:terceira-key<li class=space> <li class='misc'>50</ul><li class=trail>}</ul></ul>",
            "text/plain": [
              "\u001b[2m{\u001b[22m\u001b[36m:primeira-key\u001b[m 20\u001b[2m,\u001b[22m \u001b[36m:segunda-key\u001b[m 6\u001b[2m,\u001b[22m \u001b[36m:terceira-key\u001b[m 50\u001b[2m}\u001b[22m\n"
            ],
            "application/octet-stream": null
          },
          "metadata": {
            "tags": []
          },
          "execution_count": 161
        }
      ]
    },
    {
      "cell_type": "markdown",
      "metadata": {
        "id": "qEnzQnrTqq_t",
        "colab_type": "text"
      },
      "source": [
        "Making a filter using reduce"
      ]
    },
    {
      "cell_type": "code",
      "metadata": {
        "id": "8YKvCMXfnJTb",
        "colab_type": "code",
        "outputId": "8765725d-642d-4a47-da3b-1829186511e7",
        "colab": {
          "base_uri": "https://localhost:8080/",
          "height": 34
        }
      },
      "source": [
        "(reduce (fn [my-map [key val]]\n",
        "  (if (> val 10)\n",
        "    (assoc my-map key val)\n",
        "    my-map)) ;see observation bellow\n",
        "    {}\n",
        "    {:a 2 :b 14 :c 7 :d 26 :e 10 :f 11})"
      ],
      "execution_count": 0,
      "outputs": [
        {
          "output_type": "execute_result",
          "data": {
            "text/iclojure-html": "<ul><li class=map>{<ul><li><ul><li class=keyword>:b<li class=space> <li class='misc'>14<li class=trail>,</ul><li class=space> <li><ul><li class=keyword>:d<li class=space> <li class='misc'>26<li class=trail>,</ul><li class=space> <li><ul><li class=keyword>:f<li class=space> <li class='misc'>11</ul><li class=trail>}</ul></ul>",
            "text/plain": [
              "\u001b[2m{\u001b[22m\u001b[36m:b\u001b[m 14\u001b[2m,\u001b[22m \u001b[36m:d\u001b[m 26\u001b[2m,\u001b[22m \u001b[36m:f\u001b[m 11\u001b[2m}\u001b[22m\n"
            ],
            "application/octet-stream": null
          },
          "metadata": {
            "tags": []
          },
          "execution_count": 195
        }
      ]
    },
    {
      "cell_type": "markdown",
      "metadata": {
        "id": "6UrsoSlRpcLz",
        "colab_type": "text"
      },
      "source": [
        "Ps.: Relating to **my-map** \\\n",
        "From: https://stackoverflow.com/questions/26720847/classcastexception-java-lang-long-cannot-be-cast-to-clojure-lang-ifn \\\n",
        "Parenthesis in Clojure are not a grouping construct, they are used primarily to invoke function calls. If you change (salary) to salary  *(in our case, my-map)* you will return the number rather than attempting to call it as a no-argument function.\n",
        "\n",
        "\n"
      ]
    },
    {
      "cell_type": "markdown",
      "metadata": {
        "id": "mfHnZ9Czq02C",
        "colab_type": "text"
      },
      "source": [
        "Making a map using reduce:\n",
        "- first code block is using map\n",
        "- second code block will do the same thing of ther first one, but using reduce"
      ]
    },
    {
      "cell_type": "code",
      "metadata": {
        "id": "1UEpfsTeq4oM",
        "colab_type": "code",
        "outputId": "803b72c9-0da0-4fda-b10e-a484f347af1a",
        "colab": {
          "base_uri": "https://localhost:8080/",
          "height": 34
        }
      },
      "source": [
        "(map #(* (+ % 1) 2) [1 2 3 4])"
      ],
      "execution_count": 0,
      "outputs": [
        {
          "output_type": "execute_result",
          "data": {
            "text/iclojure-html": "<ul><li class=seq>(<ul><li class='misc'>4<li class=space> <li class='misc'>6<li class=space> <li class='misc'>8<li class=space> <li class='misc'>10<li class=trail>)</ul></ul>",
            "text/plain": [
              "\u001b[2m(\u001b[22m4 6 8 10\u001b[2m)\u001b[22m\n"
            ],
            "application/octet-stream": null
          },
          "metadata": {
            "tags": []
          },
          "execution_count": 208
        }
      ]
    },
    {
      "cell_type": "code",
      "metadata": {
        "id": "RAuz7lmLrSwP",
        "colab_type": "code",
        "outputId": "20b38b89-9b72-473f-bed8-43429f6cd55f",
        "colab": {
          "base_uri": "https://localhost:8080/",
          "height": 173
        }
      },
      "source": [
        "(reduce (fn [arr num]\n",
        "    (println (str \"arr -> \" arr)) ;this is here just to understand how everything is working. This part starts with an empty vector, and num since the beggining is always a number.\n",
        "    (println (str \"num -> \" num))\n",
        "    (conj arr (* (+ num 1) 2))) [] [1 2 3 4])"
      ],
      "execution_count": 0,
      "outputs": [
        {
          "output_type": "stream",
          "text": [
            "arr -> []\n",
            "num -> 1\n",
            "arr -> [4]\n",
            "num -> 2\n",
            "arr -> [4 6]\n",
            "num -> 3\n",
            "arr -> [4 6 8]\n",
            "num -> 4\n"
          ],
          "name": "stdout"
        },
        {
          "output_type": "execute_result",
          "data": {
            "text/iclojure-html": "<ul><li class=vector>[<ul><li class='misc'>4<li class=space> <li class='misc'>6<li class=space> <li class='misc'>8<li class=space> <li class='misc'>10<li class=trail>]</ul></ul>",
            "text/plain": [
              "\u001b[2m[\u001b[22m4 6 8 10\u001b[2m]\u001b[22m\n"
            ],
            "application/octet-stream": null
          },
          "metadata": {
            "tags": []
          },
          "execution_count": 275
        }
      ]
    },
    {
      "cell_type": "markdown",
      "metadata": {
        "id": "J7oqVjOr8O7c",
        "colab_type": "text"
      },
      "source": [
        "#### Take, drop, take-while, drop-while"
      ]
    },
    {
      "cell_type": "code",
      "metadata": {
        "id": "osbsEc8e8f2T",
        "colab_type": "code",
        "outputId": "972e7dd5-092d-4c94-8c04-fa97bded41dc",
        "colab": {
          "base_uri": "https://localhost:8080/",
          "height": 34
        }
      },
      "source": [
        "(take 3 [1 2 3 4 5 6 7 8 9 0])"
      ],
      "execution_count": 0,
      "outputs": [
        {
          "output_type": "execute_result",
          "data": {
            "text/iclojure-html": "<ul><li class=seq>(<ul><li class='misc'>1<li class=space> <li class='misc'>2<li class=space> <li class='misc'>3<li class=trail>)</ul></ul>",
            "text/plain": [
              "\u001b[2m(\u001b[22m1 2 3\u001b[2m)\u001b[22m\n"
            ],
            "application/octet-stream": null
          },
          "metadata": {
            "tags": []
          },
          "execution_count": 310
        }
      ]
    },
    {
      "cell_type": "code",
      "metadata": {
        "id": "8zg7rhaa8lfd",
        "colab_type": "code",
        "outputId": "73c991a6-d23f-4fa0-a0b6-ecc15d43e32f",
        "colab": {
          "base_uri": "https://localhost:8080/",
          "height": 34
        }
      },
      "source": [
        "(def my-vec [33 56 21 98 48 23])\n",
        "(take 4 my-vec)\n",
        ";my-vec"
      ],
      "execution_count": 0,
      "outputs": [
        {
          "output_type": "execute_result",
          "data": {
            "text/iclojure-html": "<ul><li class=seq>(<ul><li class='misc'>33<li class=space> <li class='misc'>56<li class=space> <li class='misc'>21<li class=space> <li class='misc'>98<li class=trail>)</ul></ul>",
            "text/plain": [
              "\u001b[2m(\u001b[22m33 56 21 98\u001b[2m)\u001b[22m\n"
            ],
            "application/octet-stream": null
          },
          "metadata": {
            "tags": []
          },
          "execution_count": 316
        }
      ]
    },
    {
      "cell_type": "code",
      "metadata": {
        "id": "Q68JUTNB9URq",
        "colab_type": "code",
        "outputId": "def3de5a-6119-49cf-8a8b-c4ccf78c3c42",
        "colab": {
          "base_uri": "https://localhost:8080/",
          "height": 34
        }
      },
      "source": [
        "(drop 2 my-vec)"
      ],
      "execution_count": 0,
      "outputs": [
        {
          "output_type": "execute_result",
          "data": {
            "text/iclojure-html": "<ul><li class=seq>(<ul><li class='misc'>21<li class=space> <li class='misc'>98<li class=space> <li class='misc'>48<li class=space> <li class='misc'>23<li class=trail>)</ul></ul>",
            "text/plain": [
              "\u001b[2m(\u001b[22m21 98 48 23\u001b[2m)\u001b[22m\n"
            ],
            "application/octet-stream": null
          },
          "metadata": {
            "tags": []
          },
          "execution_count": 319
        }
      ]
    },
    {
      "cell_type": "code",
      "metadata": {
        "id": "fMKXRemE9dqQ",
        "colab_type": "code",
        "outputId": "bfcbd09a-856d-46f8-ccc2-d7f19e2df428",
        "colab": {
          "base_uri": "https://localhost:8080/",
          "height": 34
        }
      },
      "source": [
        "(take-while #(> % 30) my-vec)"
      ],
      "execution_count": 0,
      "outputs": [
        {
          "output_type": "execute_result",
          "data": {
            "text/iclojure-html": "<ul><li class=seq>(<ul><li class='misc'>33<li class=space> <li class='misc'>56<li class=trail>)</ul></ul>",
            "text/plain": [
              "\u001b[2m(\u001b[22m33 56\u001b[2m)\u001b[22m\n"
            ],
            "application/octet-stream": null
          },
          "metadata": {
            "tags": []
          },
          "execution_count": 325
        }
      ]
    },
    {
      "cell_type": "code",
      "metadata": {
        "id": "MHF0HM5s93AA",
        "colab_type": "code",
        "outputId": "2256092d-4a57-4f5b-a341-8c20b05592b0",
        "colab": {
          "base_uri": "https://localhost:8080/",
          "height": 34
        }
      },
      "source": [
        "(drop-while #(< % 60) my-vec)"
      ],
      "execution_count": 0,
      "outputs": [
        {
          "output_type": "execute_result",
          "data": {
            "text/iclojure-html": "<ul><li class=seq>(<ul><li class='misc'>98<li class=space> <li class='misc'>48<li class=space> <li class='misc'>23<li class=trail>)</ul></ul>",
            "text/plain": [
              "\u001b[2m(\u001b[22m98 48 23\u001b[2m)\u001b[22m\n"
            ],
            "application/octet-stream": null
          },
          "metadata": {
            "tags": []
          },
          "execution_count": 328
        }
      ]
    },
    {
      "cell_type": "code",
      "metadata": {
        "id": "cNy65s8u-FNn",
        "colab_type": "code",
        "outputId": "a10e0090-f83a-44d3-e3f4-a1343ebfbc55",
        "colab": {
          "base_uri": "https://localhost:8080/",
          "height": 34
        }
      },
      "source": [
        "(def purchases \n",
        "  [{:product \"banana\" :qnt 6 :price 1.9}\n",
        "  {:product \"bread\" :qnt 3 :price 2.5}\n",
        "  {:product \"iogurt\" :qnt 4 :price 16}\n",
        "  {:product \"chichen breast\" :qnt 1 :price 23.9}\n",
        "  {:product \"chocolate\" :qnt 1 :price 3.5}])\n",
        "  \n",
        " (take-while #(< (:price %) 10) purchases)"
      ],
      "execution_count": 0,
      "outputs": [
        {
          "output_type": "execute_result",
          "data": {
            "text/iclojure-html": "<ul><li class=seq>(<ul><li class=map>{<ul><li><ul><li class=keyword>:product<li class=space> <li class='string'>\"banana\"<li class=trail>,</ul><li class=space> <li><ul><li class=keyword>:qnt<li class=space> <li class='misc'>6<li class=trail>,</ul><li class=space> <li><ul><li class=keyword>:price<li class=space> <li class='misc'>1.9</ul><li class=trail>}</ul><li class=space> <li class=map>{<ul><li><ul><li class=keyword>:product<li class=space> <li class='string'>\"bread\"<li class=trail>,</ul><li class=space> <li><ul><li class=keyword>:qnt<li class=space> <li class='misc'>3<li class=trail>,</ul><li class=space> <li><ul><li class=keyword>:price<li class=space> <li class='misc'>2.5</ul><li class=trail>}</ul><li class=trail>)</ul></ul>",
            "text/plain": [
              "\u001b[2m(\u001b[22m\u001b[2m{\u001b[22m\u001b[36m:product\u001b[m \"banana\"\u001b[2m,\u001b[22m \u001b[36m:qnt\u001b[m 6\u001b[2m,\u001b[22m \u001b[36m:price\u001b[m 1.9\u001b[2m}\u001b[22m \u001b[2m{\u001b[22m\u001b[36m:product\u001b[m \"bread\"\u001b[2m,\u001b[22m \u001b[36m:qnt\u001b[m 3\u001b[2m,\u001b[22m \u001b[36m:price\u001b[m 2.5\u001b[2m}\u001b[22m\u001b[2m)\u001b[22m\n"
            ],
            "application/octet-stream": null
          },
          "metadata": {
            "tags": []
          },
          "execution_count": 389
        }
      ]
    },
    {
      "cell_type": "markdown",
      "metadata": {
        "id": "njA7uOeOvoyC",
        "colab_type": "text"
      },
      "source": [
        "#### Filter, some"
      ]
    },
    {
      "cell_type": "markdown",
      "metadata": {
        "id": "OMnwjf6Hvu4q",
        "colab_type": "text"
      },
      "source": [
        "Using *my-vec* and *purchases* declared in previous section..."
      ]
    },
    {
      "cell_type": "code",
      "metadata": {
        "id": "yHVVHJlawfBu",
        "colab_type": "code",
        "outputId": "de4d95bc-dbe4-49b6-dd4e-778a688d8572",
        "colab": {
          "base_uri": "https://localhost:8080/",
          "height": 34
        }
      },
      "source": [
        "(filter #(> % 30) my-vec)"
      ],
      "execution_count": 0,
      "outputs": [
        {
          "output_type": "execute_result",
          "data": {
            "text/iclojure-html": "<ul><li class=seq>(<ul><li class='misc'>33<li class=space> <li class='misc'>56<li class=space> <li class='misc'>98<li class=space> <li class='misc'>48<li class=trail>)</ul></ul>",
            "text/plain": [
              "\u001b[2m(\u001b[22m33 56 98 48\u001b[2m)\u001b[22m\n"
            ],
            "application/octet-stream": null
          },
          "metadata": {
            "tags": []
          },
          "execution_count": 394
        }
      ]
    },
    {
      "cell_type": "code",
      "metadata": {
        "id": "Jxm6TUbdvtTK",
        "colab_type": "code",
        "outputId": "a2e2f8e5-fce8-46c8-a9b0-0d5887500b0c",
        "colab": {
          "base_uri": "https://localhost:8080/",
          "height": 52
        }
      },
      "source": [
        "(filter #(< (:price %) 10) purchases)"
      ],
      "execution_count": 0,
      "outputs": [
        {
          "output_type": "execute_result",
          "data": {
            "text/iclojure-html": "<ul><li class=seq>(<ul><li class=map>{<ul><li><ul><li class=keyword>:product<li class=space> <li class='string'>\"banana\"<li class=trail>,</ul><li class=space> <li><ul><li class=keyword>:qnt<li class=space> <li class='misc'>6<li class=trail>,</ul><li class=space> <li><ul><li class=keyword>:price<li class=space> <li class='misc'>1.9</ul><li class=trail>}</ul><li class=space> <li class=map>{<ul><li><ul><li class=keyword>:product<li class=space> <li class='string'>\"bread\"<li class=trail>,</ul><li class=space> <li><ul><li class=keyword>:qnt<li class=space> <li class='misc'>3<li class=trail>,</ul><li class=space> <li><ul><li class=keyword>:price<li class=space> <li class='misc'>2.5</ul><li class=trail>}</ul><li class=space> <li class=map>{<ul><li><ul><li class=keyword>:product<li class=space> <li class='string'>\"chocolate\"<li class=trail>,</ul><li class=space> <li><ul><li class=keyword>:qnt<li class=space> <li class='misc'>1<li class=trail>,</ul><li class=space> <li><ul><li class=keyword>:price<li class=space> <li class='misc'>3.5</ul><li class=trail>}</ul><li class=trail>)</ul></ul>",
            "text/plain": [
              "\u001b[2m(\u001b[22m\u001b[2m{\u001b[22m\u001b[36m:product\u001b[m \"banana\"\u001b[2m,\u001b[22m \u001b[36m:qnt\u001b[m 6\u001b[2m,\u001b[22m \u001b[36m:price\u001b[m 1.9\u001b[2m}\u001b[22m \u001b[2m{\u001b[22m\u001b[36m:product\u001b[m \"bread\"\u001b[2m,\u001b[22m \u001b[36m:qnt\u001b[m 3\u001b[2m,\u001b[22m \u001b[36m:price\u001b[m 2.5\u001b[2m}\u001b[22m\n",
              " \u001b[2m{\u001b[22m\u001b[36m:product\u001b[m \"chocolate\"\u001b[2m,\u001b[22m \u001b[36m:qnt\u001b[m 1\u001b[2m,\u001b[22m \u001b[36m:price\u001b[m 3.5\u001b[2m}\u001b[22m\u001b[2m)\u001b[22m\n"
            ],
            "application/octet-stream": null
          },
          "metadata": {
            "tags": []
          },
          "execution_count": 391
        }
      ]
    },
    {
      "cell_type": "markdown",
      "metadata": {
        "id": "y2FixP4vwtLj",
        "colab_type": "text"
      },
      "source": [
        "Some means \"there is some x in this collection?\"."
      ]
    },
    {
      "cell_type": "code",
      "metadata": {
        "id": "2rEl8qE2wznJ",
        "colab_type": "code",
        "outputId": "214ad6a0-4400-4cdd-a6fc-5c98e48fa44c",
        "colab": {
          "base_uri": "https://localhost:8080/",
          "height": 34
        }
      },
      "source": [
        "(some #(> % 30) my-vec)"
      ],
      "execution_count": 0,
      "outputs": [
        {
          "output_type": "execute_result",
          "data": {
            "text/iclojure-html": "<ul><li class='misc'>true</ul>",
            "text/plain": [
              "true\n"
            ],
            "application/octet-stream": null
          },
          "metadata": {
            "tags": []
          },
          "execution_count": 414
        }
      ]
    },
    {
      "cell_type": "markdown",
      "metadata": {
        "id": "Bzv0Yw5BywnQ",
        "colab_type": "text"
      },
      "source": [
        "It is also possible to get the matched value instead of 'true'. See previous exemple, but now returning the matched value."
      ]
    },
    {
      "cell_type": "code",
      "metadata": {
        "id": "FzisYdyOxVDp",
        "colab_type": "code",
        "outputId": "9b030acf-9f44-4f48-f4ef-234141af1bbb",
        "colab": {
          "base_uri": "https://localhost:8080/",
          "height": 34
        }
      },
      "source": [
        "(some #(and (> % 30) %) my-vec)"
      ],
      "execution_count": 0,
      "outputs": [
        {
          "output_type": "execute_result",
          "data": {
            "text/iclojure-html": "<ul><li class='misc'>33</ul>",
            "text/plain": [
              "33\n"
            ],
            "application/octet-stream": null
          },
          "metadata": {
            "tags": []
          },
          "execution_count": 416
        }
      ]
    },
    {
      "cell_type": "code",
      "metadata": {
        "id": "Mdo2OcyWzCzp",
        "colab_type": "code",
        "outputId": "689dba5a-500c-4c0f-e6e1-1f9ed5880d8f",
        "colab": {
          "base_uri": "https://localhost:8080/",
          "height": 34
        }
      },
      "source": [
        "(some #(= (:product %) \"banana\") purchases)"
      ],
      "execution_count": 0,
      "outputs": [
        {
          "output_type": "execute_result",
          "data": {
            "text/iclojure-html": "<ul><li class='misc'>true</ul>",
            "text/plain": [
              "true\n"
            ],
            "application/octet-stream": null
          },
          "metadata": {
            "tags": []
          },
          "execution_count": 428
        }
      ]
    },
    {
      "cell_type": "code",
      "metadata": {
        "id": "zXJG8hb2zzn5",
        "colab_type": "code",
        "outputId": "3cd73384-5de0-43c0-807f-6d5f8f4e366d",
        "colab": {
          "base_uri": "https://localhost:8080/",
          "height": 34
        }
      },
      "source": [
        "(some #(and (= (:product %) \"banana\") %) purchases)"
      ],
      "execution_count": 0,
      "outputs": [
        {
          "output_type": "execute_result",
          "data": {
            "text/iclojure-html": "<ul><li class=map>{<ul><li><ul><li class=keyword>:product<li class=space> <li class='string'>\"banana\"<li class=trail>,</ul><li class=space> <li><ul><li class=keyword>:qnt<li class=space> <li class='misc'>6<li class=trail>,</ul><li class=space> <li><ul><li class=keyword>:price<li class=space> <li class='misc'>1.9</ul><li class=trail>}</ul></ul>",
            "text/plain": [
              "\u001b[2m{\u001b[22m\u001b[36m:product\u001b[m \"banana\"\u001b[2m,\u001b[22m \u001b[36m:qnt\u001b[m 6\u001b[2m,\u001b[22m \u001b[36m:price\u001b[m 1.9\u001b[2m}\u001b[22m\n"
            ],
            "application/octet-stream": null
          },
          "metadata": {
            "tags": []
          },
          "execution_count": 430
        }
      ]
    },
    {
      "cell_type": "code",
      "metadata": {
        "id": "a79NBnhzy9jg",
        "colab_type": "code",
        "outputId": "df077c4a-0619-4d74-a6da-72f58d4eaedc",
        "colab": {
          "base_uri": "https://localhost:8080/",
          "height": 34
        }
      },
      "source": [
        "(some #(> % 100) my-vec)"
      ],
      "execution_count": 0,
      "outputs": [
        {
          "output_type": "execute_result",
          "data": {
            "text/iclojure-html": "<ul><li class='misc'>nil</ul>",
            "text/plain": [
              "nil\n"
            ],
            "application/octet-stream": null
          },
          "metadata": {
            "tags": []
          },
          "execution_count": 418
        }
      ]
    },
    {
      "cell_type": "code",
      "metadata": {
        "id": "G5YArbdr0kj9",
        "colab_type": "code",
        "outputId": "739a260c-3191-4f14-9af2-f917c2509944",
        "colab": {
          "base_uri": "https://localhost:8080/",
          "height": 34
        }
      },
      "source": [
        "(some #(= (:product %) \"grape\") purchases)"
      ],
      "execution_count": 0,
      "outputs": [
        {
          "output_type": "execute_result",
          "data": {
            "text/iclojure-html": "<ul><li class='misc'>nil</ul>",
            "text/plain": [
              "nil\n"
            ],
            "application/octet-stream": null
          },
          "metadata": {
            "tags": []
          },
          "execution_count": 438
        }
      ]
    },
    {
      "cell_type": "code",
      "metadata": {
        "id": "mlxQERlw0BE6",
        "colab_type": "code",
        "outputId": "0a3a4343-a049-49e8-c005-a3c258894c60",
        "colab": {
          "base_uri": "https://localhost:8080/",
          "height": 34
        }
      },
      "source": [
        "(some #(and (= (:product %) \"grape\") %) purchases)"
      ],
      "execution_count": 0,
      "outputs": [
        {
          "output_type": "execute_result",
          "data": {
            "text/iclojure-html": "<ul><li class='misc'>nil</ul>",
            "text/plain": [
              "nil\n"
            ],
            "application/octet-stream": null
          },
          "metadata": {
            "tags": []
          },
          "execution_count": 435
        }
      ]
    },
    {
      "cell_type": "markdown",
      "metadata": {
        "id": "4JYANTE81UXp",
        "colab_type": "text"
      },
      "source": [
        "#### Sort and sort-by"
      ]
    },
    {
      "cell_type": "code",
      "metadata": {
        "id": "t9JqV6CV1ZWq",
        "colab_type": "code",
        "outputId": "b4200b79-32c9-4d55-c68b-64f7a6cb0fa6",
        "colab": {
          "base_uri": "https://localhost:8080/",
          "height": 34
        }
      },
      "source": [
        "(sort [6 5 7 3 4 1 9 2 8])"
      ],
      "execution_count": 0,
      "outputs": [
        {
          "output_type": "execute_result",
          "data": {
            "text/iclojure-html": "<ul><li class=seq>(<ul><li class='misc'>1<li class=space> <li class='misc'>2<li class=space> <li class='misc'>3<li class=space> <li class='misc'>4<li class=space> <li class='misc'>5<li class=space> <li class='misc'>6<li class=space> <li class='misc'>7<li class=space> <li class='misc'>8<li class=space> <li class='misc'>9<li class=trail>)</ul></ul>",
            "text/plain": [
              "\u001b[2m(\u001b[22m1 2 3 4 5 6 7 8 9\u001b[2m)\u001b[22m\n"
            ],
            "application/octet-stream": null
          },
          "metadata": {
            "tags": []
          },
          "execution_count": 445
        }
      ]
    },
    {
      "cell_type": "code",
      "metadata": {
        "id": "WKLChfBS1gfA",
        "colab_type": "code",
        "outputId": "d9200339-3bca-46ce-8ec3-446ddc4da97c",
        "colab": {
          "base_uri": "https://localhost:8080/",
          "height": 34
        }
      },
      "source": [
        "(def letter-vec [\"aaa\" \"c\" \"bb\"])\n",
        "\n",
        "(sort letter-vec)"
      ],
      "execution_count": 0,
      "outputs": [
        {
          "output_type": "execute_result",
          "data": {
            "text/iclojure-html": "<ul><li class=seq>(<ul><li class='string'>\"aaa\"<li class=space> <li class='string'>\"bb\"<li class=space> <li class='string'>\"c\"<li class=trail>)</ul></ul>",
            "text/plain": [
              "\u001b[2m(\u001b[22m\"aaa\" \"bb\" \"c\"\u001b[2m)\u001b[22m\n"
            ],
            "application/octet-stream": null
          },
          "metadata": {
            "tags": []
          },
          "execution_count": 459
        }
      ]
    },
    {
      "cell_type": "code",
      "metadata": {
        "id": "RVAUab6D1weU",
        "colab_type": "code",
        "outputId": "7f36e0ac-f7e5-4b9e-aa4c-ee8340c68a66",
        "colab": {
          "base_uri": "https://localhost:8080/",
          "height": 34
        }
      },
      "source": [
        "(sort-by count letter-vec)"
      ],
      "execution_count": 0,
      "outputs": [
        {
          "output_type": "execute_result",
          "data": {
            "text/iclojure-html": "<ul><li class=seq>(<ul><li class='string'>\"c\"<li class=space> <li class='string'>\"bb\"<li class=space> <li class='string'>\"aaa\"<li class=trail>)</ul></ul>",
            "text/plain": [
              "\u001b[2m(\u001b[22m\"c\" \"bb\" \"aaa\"\u001b[2m)\u001b[22m\n"
            ],
            "application/octet-stream": null
          },
          "metadata": {
            "tags": []
          },
          "execution_count": 461
        }
      ]
    },
    {
      "cell_type": "code",
      "metadata": {
        "id": "UQFSP5ww2i7m",
        "colab_type": "code",
        "outputId": "c66a1cca-98a8-4824-bc96-90130fadf742",
        "colab": {
          "base_uri": "https://localhost:8080/",
          "height": 34
        }
      },
      "source": [
        ";(sort purchases) --> it does not work!"
      ],
      "execution_count": 0,
      "outputs": [
        {
          "output_type": "execute_result",
          "data": {
            "text/iclojure-html": "<ul><li class='misc'>nil</ul>",
            "text/plain": [
              "nil\n"
            ],
            "application/octet-stream": null
          },
          "metadata": {
            "tags": []
          },
          "execution_count": 477
        }
      ]
    },
    {
      "cell_type": "code",
      "metadata": {
        "id": "RlVN69Ts2FnM",
        "colab_type": "code",
        "outputId": "6917670c-4bc1-42f1-8ff2-b33367c6fc39",
        "colab": {
          "base_uri": "https://localhost:8080/",
          "height": 86
        }
      },
      "source": [
        "(sort-by :product purchases)"
      ],
      "execution_count": 0,
      "outputs": [
        {
          "output_type": "execute_result",
          "data": {
            "text/iclojure-html": "<ul><li class=seq>(<ul><li class=map>{<ul><li><ul><li class=keyword>:product<li class=space> <li class='string'>\"banana\"<li class=trail>,</ul><li class=space> <li><ul><li class=keyword>:qnt<li class=space> <li class='misc'>6<li class=trail>,</ul><li class=space> <li><ul><li class=keyword>:price<li class=space> <li class='misc'>1.9</ul><li class=trail>}</ul><li class=space> <li class=map>{<ul><li><ul><li class=keyword>:product<li class=space> <li class='string'>\"bread\"<li class=trail>,</ul><li class=space> <li><ul><li class=keyword>:qnt<li class=space> <li class='misc'>3<li class=trail>,</ul><li class=space> <li><ul><li class=keyword>:price<li class=space> <li class='misc'>2.5</ul><li class=trail>}</ul><li class=space> <li class=map>{<ul><li><ul><li class=keyword>:product<li class=space> <li class='string'>\"chichen breast\"<li class=trail>,</ul><li class=space> <li><ul><li class=keyword>:qnt<li class=space> <li class='misc'>1<li class=trail>,</ul><li class=space> <li><ul><li class=keyword>:price<li class=space> <li class='misc'>23.9</ul><li class=trail>}</ul><li class=space> <li class=map>{<ul><li><ul><li class=keyword>:product<li class=space> <li class='string'>\"chocolate\"<li class=trail>,</ul><li class=space> <li><ul><li class=keyword>:qnt<li class=space> <li class='misc'>1<li class=trail>,</ul><li class=space> <li><ul><li class=keyword>:price<li class=space> <li class='misc'>3.5</ul><li class=trail>}</ul><li class=space> <li class=map>{<ul><li><ul><li class=keyword>:product<li class=space> <li class='string'>\"iogurt\"<li class=trail>,</ul><li class=space> <li><ul><li class=keyword>:qnt<li class=space> <li class='misc'>4<li class=trail>,</ul><li class=space> <li><ul><li class=keyword>:price<li class=space> <li class='misc'>16</ul><li class=trail>}</ul><li class=trail>)</ul></ul>",
            "text/plain": [
              "\u001b[2m(\u001b[22m\u001b[2m{\u001b[22m\u001b[36m:product\u001b[m \"banana\"\u001b[2m,\u001b[22m \u001b[36m:qnt\u001b[m 6\u001b[2m,\u001b[22m \u001b[36m:price\u001b[m 1.9\u001b[2m}\u001b[22m \u001b[2m{\u001b[22m\u001b[36m:product\u001b[m \"bread\"\u001b[2m,\u001b[22m \u001b[36m:qnt\u001b[m 3\u001b[2m,\u001b[22m \u001b[36m:price\u001b[m 2.5\u001b[2m}\u001b[22m\n",
              " \u001b[2m{\u001b[22m\u001b[36m:product\u001b[m \"chichen breast\"\u001b[2m,\u001b[22m \u001b[36m:qnt\u001b[m 1\u001b[2m,\u001b[22m \u001b[36m:price\u001b[m 23.9\u001b[2m}\u001b[22m\n",
              " \u001b[2m{\u001b[22m\u001b[36m:product\u001b[m \"chocolate\"\u001b[2m,\u001b[22m \u001b[36m:qnt\u001b[m 1\u001b[2m,\u001b[22m \u001b[36m:price\u001b[m 3.5\u001b[2m}\u001b[22m\n",
              " \u001b[2m{\u001b[22m\u001b[36m:product\u001b[m \"iogurt\"\u001b[2m,\u001b[22m \u001b[36m:qnt\u001b[m 4\u001b[2m,\u001b[22m \u001b[36m:price\u001b[m 16\u001b[2m}\u001b[22m\u001b[2m)\u001b[22m\n"
            ],
            "application/octet-stream": null
          },
          "metadata": {
            "tags": []
          },
          "execution_count": 464
        }
      ]
    },
    {
      "cell_type": "code",
      "metadata": {
        "id": "MrCPobLi2NSR",
        "colab_type": "code",
        "outputId": "a798d97c-38b0-48e3-e3f3-697044407108",
        "colab": {
          "base_uri": "https://localhost:8080/",
          "height": 86
        }
      },
      "source": [
        "(sort-by :qnt purchases)"
      ],
      "execution_count": 0,
      "outputs": [
        {
          "output_type": "execute_result",
          "data": {
            "text/iclojure-html": "<ul><li class=seq>(<ul><li class=map>{<ul><li><ul><li class=keyword>:product<li class=space> <li class='string'>\"chichen breast\"<li class=trail>,</ul><li class=space> <li><ul><li class=keyword>:qnt<li class=space> <li class='misc'>1<li class=trail>,</ul><li class=space> <li><ul><li class=keyword>:price<li class=space> <li class='misc'>23.9</ul><li class=trail>}</ul><li class=space> <li class=map>{<ul><li><ul><li class=keyword>:product<li class=space> <li class='string'>\"chocolate\"<li class=trail>,</ul><li class=space> <li><ul><li class=keyword>:qnt<li class=space> <li class='misc'>1<li class=trail>,</ul><li class=space> <li><ul><li class=keyword>:price<li class=space> <li class='misc'>3.5</ul><li class=trail>}</ul><li class=space> <li class=map>{<ul><li><ul><li class=keyword>:product<li class=space> <li class='string'>\"bread\"<li class=trail>,</ul><li class=space> <li><ul><li class=keyword>:qnt<li class=space> <li class='misc'>3<li class=trail>,</ul><li class=space> <li><ul><li class=keyword>:price<li class=space> <li class='misc'>2.5</ul><li class=trail>}</ul><li class=space> <li class=map>{<ul><li><ul><li class=keyword>:product<li class=space> <li class='string'>\"iogurt\"<li class=trail>,</ul><li class=space> <li><ul><li class=keyword>:qnt<li class=space> <li class='misc'>4<li class=trail>,</ul><li class=space> <li><ul><li class=keyword>:price<li class=space> <li class='misc'>16</ul><li class=trail>}</ul><li class=space> <li class=map>{<ul><li><ul><li class=keyword>:product<li class=space> <li class='string'>\"banana\"<li class=trail>,</ul><li class=space> <li><ul><li class=keyword>:qnt<li class=space> <li class='misc'>6<li class=trail>,</ul><li class=space> <li><ul><li class=keyword>:price<li class=space> <li class='misc'>1.9</ul><li class=trail>}</ul><li class=trail>)</ul></ul>",
            "text/plain": [
              "\u001b[2m(\u001b[22m\u001b[2m{\u001b[22m\u001b[36m:product\u001b[m \"chichen breast\"\u001b[2m,\u001b[22m \u001b[36m:qnt\u001b[m 1\u001b[2m,\u001b[22m \u001b[36m:price\u001b[m 23.9\u001b[2m}\u001b[22m\n",
              " \u001b[2m{\u001b[22m\u001b[36m:product\u001b[m \"chocolate\"\u001b[2m,\u001b[22m \u001b[36m:qnt\u001b[m 1\u001b[2m,\u001b[22m \u001b[36m:price\u001b[m 3.5\u001b[2m}\u001b[22m\n",
              " \u001b[2m{\u001b[22m\u001b[36m:product\u001b[m \"bread\"\u001b[2m,\u001b[22m \u001b[36m:qnt\u001b[m 3\u001b[2m,\u001b[22m \u001b[36m:price\u001b[m 2.5\u001b[2m}\u001b[22m \u001b[2m{\u001b[22m\u001b[36m:product\u001b[m \"iogurt\"\u001b[2m,\u001b[22m \u001b[36m:qnt\u001b[m 4\u001b[2m,\u001b[22m \u001b[36m:price\u001b[m 16\u001b[2m}\u001b[22m\n",
              " \u001b[2m{\u001b[22m\u001b[36m:product\u001b[m \"banana\"\u001b[2m,\u001b[22m \u001b[36m:qnt\u001b[m 6\u001b[2m,\u001b[22m \u001b[36m:price\u001b[m 1.9\u001b[2m}\u001b[22m\u001b[2m)\u001b[22m\n"
            ],
            "application/octet-stream": null
          },
          "metadata": {
            "tags": []
          },
          "execution_count": 467
        }
      ]
    },
    {
      "cell_type": "code",
      "metadata": {
        "id": "hUUl4k-G2Uvb",
        "colab_type": "code",
        "outputId": "5ae9e4b8-032d-4ad9-8fa7-5864f0d000a5",
        "colab": {
          "base_uri": "https://localhost:8080/",
          "height": 86
        }
      },
      "source": [
        "(sort-by :price purchases)"
      ],
      "execution_count": 0,
      "outputs": [
        {
          "output_type": "execute_result",
          "data": {
            "text/iclojure-html": "<ul><li class=seq>(<ul><li class=map>{<ul><li><ul><li class=keyword>:product<li class=space> <li class='string'>\"banana\"<li class=trail>,</ul><li class=space> <li><ul><li class=keyword>:qnt<li class=space> <li class='misc'>6<li class=trail>,</ul><li class=space> <li><ul><li class=keyword>:price<li class=space> <li class='misc'>1.9</ul><li class=trail>}</ul><li class=space> <li class=map>{<ul><li><ul><li class=keyword>:product<li class=space> <li class='string'>\"bread\"<li class=trail>,</ul><li class=space> <li><ul><li class=keyword>:qnt<li class=space> <li class='misc'>3<li class=trail>,</ul><li class=space> <li><ul><li class=keyword>:price<li class=space> <li class='misc'>2.5</ul><li class=trail>}</ul><li class=space> <li class=map>{<ul><li><ul><li class=keyword>:product<li class=space> <li class='string'>\"chocolate\"<li class=trail>,</ul><li class=space> <li><ul><li class=keyword>:qnt<li class=space> <li class='misc'>1<li class=trail>,</ul><li class=space> <li><ul><li class=keyword>:price<li class=space> <li class='misc'>3.5</ul><li class=trail>}</ul><li class=space> <li class=map>{<ul><li><ul><li class=keyword>:product<li class=space> <li class='string'>\"iogurt\"<li class=trail>,</ul><li class=space> <li><ul><li class=keyword>:qnt<li class=space> <li class='misc'>4<li class=trail>,</ul><li class=space> <li><ul><li class=keyword>:price<li class=space> <li class='misc'>16</ul><li class=trail>}</ul><li class=space> <li class=map>{<ul><li><ul><li class=keyword>:product<li class=space> <li class='string'>\"chichen breast\"<li class=trail>,</ul><li class=space> <li><ul><li class=keyword>:qnt<li class=space> <li class='misc'>1<li class=trail>,</ul><li class=space> <li><ul><li class=keyword>:price<li class=space> <li class='misc'>23.9</ul><li class=trail>}</ul><li class=trail>)</ul></ul>",
            "text/plain": [
              "\u001b[2m(\u001b[22m\u001b[2m{\u001b[22m\u001b[36m:product\u001b[m \"banana\"\u001b[2m,\u001b[22m \u001b[36m:qnt\u001b[m 6\u001b[2m,\u001b[22m \u001b[36m:price\u001b[m 1.9\u001b[2m}\u001b[22m \u001b[2m{\u001b[22m\u001b[36m:product\u001b[m \"bread\"\u001b[2m,\u001b[22m \u001b[36m:qnt\u001b[m 3\u001b[2m,\u001b[22m \u001b[36m:price\u001b[m 2.5\u001b[2m}\u001b[22m\n",
              " \u001b[2m{\u001b[22m\u001b[36m:product\u001b[m \"chocolate\"\u001b[2m,\u001b[22m \u001b[36m:qnt\u001b[m 1\u001b[2m,\u001b[22m \u001b[36m:price\u001b[m 3.5\u001b[2m}\u001b[22m\n",
              " \u001b[2m{\u001b[22m\u001b[36m:product\u001b[m \"iogurt\"\u001b[2m,\u001b[22m \u001b[36m:qnt\u001b[m 4\u001b[2m,\u001b[22m \u001b[36m:price\u001b[m 16\u001b[2m}\u001b[22m\n",
              " \u001b[2m{\u001b[22m\u001b[36m:product\u001b[m \"chichen breast\"\u001b[2m,\u001b[22m \u001b[36m:qnt\u001b[m 1\u001b[2m,\u001b[22m \u001b[36m:price\u001b[m 23.9\u001b[2m}\u001b[22m\u001b[2m)\u001b[22m\n"
            ],
            "application/octet-stream": null
          },
          "metadata": {
            "tags": []
          },
          "execution_count": 469
        }
      ]
    },
    {
      "cell_type": "markdown",
      "metadata": {
        "id": "IFn_yJeW23pr",
        "colab_type": "text"
      },
      "source": [
        "#### Concat, into, conj, merge"
      ]
    },
    {
      "cell_type": "code",
      "metadata": {
        "id": "6Zep3weY26n2",
        "colab_type": "code",
        "outputId": "80a670c0-1b7a-46a4-8a5c-9aa078407f04",
        "colab": {
          "base_uri": "https://localhost:8080/",
          "height": 34
        }
      },
      "source": [
        "(concat [2 5 3] [8 1 9])"
      ],
      "execution_count": 0,
      "outputs": [
        {
          "output_type": "execute_result",
          "data": {
            "text/iclojure-html": "<ul><li class=seq>(<ul><li class='misc'>2<li class=space> <li class='misc'>5<li class=space> <li class='misc'>3<li class=space> <li class='misc'>8<li class=space> <li class='misc'>1<li class=space> <li class='misc'>9<li class=trail>)</ul></ul>",
            "text/plain": [
              "\u001b[2m(\u001b[22m2 5 3 8 1 9\u001b[2m)\u001b[22m\n"
            ],
            "application/octet-stream": null
          },
          "metadata": {
            "tags": []
          },
          "execution_count": 509
        }
      ]
    },
    {
      "cell_type": "code",
      "metadata": {
        "id": "zf52xoWA3N8X",
        "colab_type": "code",
        "outputId": "f06b557f-b9b3-4c7d-9299-10cef42588b2",
        "colab": {
          "base_uri": "https://localhost:8080/",
          "height": 34
        }
      },
      "source": [
        ";(concat [2 5 3] 8) --> it does not work!"
      ],
      "execution_count": 0,
      "outputs": [
        {
          "output_type": "execute_result",
          "data": {
            "text/iclojure-html": "<ul><li class='misc'>nil</ul>",
            "text/plain": [
              "nil\n"
            ],
            "application/octet-stream": null
          },
          "metadata": {
            "tags": []
          },
          "execution_count": 489
        }
      ]
    },
    {
      "cell_type": "code",
      "metadata": {
        "colab_type": "code",
        "outputId": "3cd42859-a68d-486a-d024-49a4a11a3962",
        "id": "JGbUK8vk4zCa",
        "colab": {
          "base_uri": "https://localhost:8080/",
          "height": 34
        }
      },
      "source": [
        "(into [2 5 3] [8 1 9])"
      ],
      "execution_count": 0,
      "outputs": [
        {
          "output_type": "execute_result",
          "data": {
            "text/iclojure-html": "<ul><li class=vector>[<ul><li class='misc'>2<li class=space> <li class='misc'>5<li class=space> <li class='misc'>3<li class=space> <li class='misc'>8<li class=space> <li class='misc'>1<li class=space> <li class='misc'>9<li class=trail>]</ul></ul>",
            "text/plain": [
              "\u001b[2m[\u001b[22m2 5 3 8 1 9\u001b[2m]\u001b[22m\n"
            ],
            "application/octet-stream": null
          },
          "metadata": {
            "tags": []
          },
          "execution_count": 512
        }
      ]
    },
    {
      "cell_type": "code",
      "metadata": {
        "colab_type": "code",
        "outputId": "bcbf87d2-3fae-46e6-b355-de324c87eddf",
        "id": "Mib3h4zO5G4U",
        "colab": {
          "base_uri": "https://localhost:8080/",
          "height": 34
        }
      },
      "source": [
        ";(into [2 5 3] 8) --> it does not work!"
      ],
      "execution_count": 0,
      "outputs": [
        {
          "output_type": "execute_result",
          "data": {
            "text/iclojure-html": "<ul><li class='misc'>nil</ul>",
            "text/plain": [
              "nil\n"
            ],
            "application/octet-stream": null
          },
          "metadata": {
            "tags": []
          },
          "execution_count": 500
        }
      ]
    },
    {
      "cell_type": "code",
      "metadata": {
        "id": "O7vVUkcM3GcI",
        "colab_type": "code",
        "outputId": "a0ed00f8-adaa-4489-c105-5f81288ce2e2",
        "colab": {
          "base_uri": "https://localhost:8080/",
          "height": 34
        }
      },
      "source": [
        "(conj [2 5 3] [8 1 9])"
      ],
      "execution_count": 0,
      "outputs": [
        {
          "output_type": "execute_result",
          "data": {
            "text/iclojure-html": "<ul><li class=vector>[<ul><li class='misc'>2<li class=space> <li class='misc'>5<li class=space> <li class='misc'>3<li class=space> <li class=vector>[<ul><li class='misc'>8<li class=space> <li class='misc'>1<li class=space> <li class='misc'>9<li class=trail>]</ul><li class=trail>]</ul></ul>",
            "text/plain": [
              "\u001b[2m[\u001b[22m2 5 3 \u001b[2m[\u001b[22m8 1 9\u001b[2m]\u001b[22m\u001b[2m]\u001b[22m\n"
            ],
            "application/octet-stream": null
          },
          "metadata": {
            "tags": []
          },
          "execution_count": 484
        }
      ]
    },
    {
      "cell_type": "code",
      "metadata": {
        "id": "bIm8gQsw3qN6",
        "colab_type": "code",
        "outputId": "2886d643-e835-4bb7-c8bf-121b1d305dde",
        "colab": {
          "base_uri": "https://localhost:8080/",
          "height": 34
        }
      },
      "source": [
        "(conj [2 5 3] 8)"
      ],
      "execution_count": 0,
      "outputs": [
        {
          "output_type": "execute_result",
          "data": {
            "text/iclojure-html": "<ul><li class=vector>[<ul><li class='misc'>2<li class=space> <li class='misc'>5<li class=space> <li class='misc'>3<li class=space> <li class='misc'>8<li class=trail>]</ul></ul>",
            "text/plain": [
              "\u001b[2m[\u001b[22m2 5 3 8\u001b[2m]\u001b[22m\n"
            ],
            "application/octet-stream": null
          },
          "metadata": {
            "tags": []
          },
          "execution_count": 514
        }
      ]
    },
    {
      "cell_type": "code",
      "metadata": {
        "id": "l5qq5KKi3ALj",
        "colab_type": "code",
        "outputId": "7557a292-eab9-4521-863f-96a9ea3677f4",
        "colab": {
          "base_uri": "https://localhost:8080/",
          "height": 34
        }
      },
      "source": [
        "(merge [2 5 3] [8 1 9])"
      ],
      "execution_count": 0,
      "outputs": [
        {
          "output_type": "execute_result",
          "data": {
            "text/iclojure-html": "<ul><li class=vector>[<ul><li class='misc'>2<li class=space> <li class='misc'>5<li class=space> <li class='misc'>3<li class=space> <li class=vector>[<ul><li class='misc'>8<li class=space> <li class='misc'>1<li class=space> <li class='misc'>9<li class=trail>]</ul><li class=trail>]</ul></ul>",
            "text/plain": [
              "\u001b[2m[\u001b[22m2 5 3 \u001b[2m[\u001b[22m8 1 9\u001b[2m]\u001b[22m\u001b[2m]\u001b[22m\n"
            ],
            "application/octet-stream": null
          },
          "metadata": {
            "tags": []
          },
          "execution_count": 516
        }
      ]
    },
    {
      "cell_type": "code",
      "metadata": {
        "id": "_Xa1tlfY3tCZ",
        "colab_type": "code",
        "outputId": "66e63f7f-0ab5-4632-ea83-dbcf324f4085",
        "colab": {
          "base_uri": "https://localhost:8080/",
          "height": 34
        }
      },
      "source": [
        "(merge [2 5 3] 8)"
      ],
      "execution_count": 0,
      "outputs": [
        {
          "output_type": "execute_result",
          "data": {
            "text/iclojure-html": "<ul><li class=vector>[<ul><li class='misc'>2<li class=space> <li class='misc'>5<li class=space> <li class='misc'>3<li class=space> <li class='misc'>8<li class=trail>]</ul></ul>",
            "text/plain": [
              "\u001b[2m[\u001b[22m2 5 3 8\u001b[2m]\u001b[22m\n"
            ],
            "application/octet-stream": null
          },
          "metadata": {
            "tags": []
          },
          "execution_count": 518
        }
      ]
    },
    {
      "cell_type": "markdown",
      "metadata": {
        "id": "Twhp3Rma-1O5",
        "colab_type": "text"
      },
      "source": [
        "### Lazy seq"
      ]
    },
    {
      "cell_type": "markdown",
      "metadata": {
        "id": "cs3lqyzb9Imk",
        "colab_type": "text"
      },
      "source": [
        "#### Explanation"
      ]
    },
    {
      "cell_type": "markdown",
      "metadata": {
        "id": "s9LTpj6Q-5zo",
        "colab_type": "text"
      },
      "source": [
        "As you saw earlier, map first calls seq on the collection you pass to it. But that’s not the whole story. Many functions, including map and filter, return a *lazy seq*. A ***lazy seq*** is a seq whose members aren’t computed until you try to access them. Computing a seq’s members is called *realizing* the seq. Deferring the computation until the moment it’s needed makes your programs more *efficient*, and it has the surprising benefit of allowing you to construct infinite sequences.\\\n",
        "You can think of a lazy seq as consisting of two parts: a recipe for how to realize the elements of a sequence and the elements that have been realized so far. When you use map, the lazy seq it returns doesn’t include any realized elements yet, but it does have the recipe for generating its elements. Every time you try to access an unrealized element, the lazy seq will use its recipe to generate the requested element."
      ]
    },
    {
      "cell_type": "markdown",
      "metadata": {
        "id": "spTf6j4i9Df-",
        "colab_type": "text"
      },
      "source": [
        "This would be an example to show lazy seq efficiency, but I did not finish it.\n"
      ]
    },
    {
      "cell_type": "code",
      "metadata": {
        "id": "R6qmcFQQJqDN",
        "colab_type": "code",
        "outputId": "af532984-06a6-463a-dbd5-3824f64f1103",
        "colab": {
          "base_uri": "https://localhost:8080/",
          "height": 86
        }
      },
      "source": [
        "(def vampire-database\n",
        "  {0 {:makes-blood-puns? false, :has-pulse? true  :name \"McFishwich\"}\n",
        "   1 {:makes-blood-puns? false, :has-pulse? true  :name \"McMackson\"}\n",
        "   2 {:makes-blood-puns? true,  :has-pulse? false :name \"Damon Salvatore\"}\n",
        "   3 {:makes-blood-puns? true,  :has-pulse? true  :name \"Mickey Mouse\"}})\n",
        "\n",
        "vampire-database"
      ],
      "execution_count": 0,
      "outputs": [
        {
          "output_type": "execute_result",
          "data": {
            "text/iclojure-html": "<ul><li class=map>{<ul><li><ul><li class='misc'>0<li class=space> <li class=map>{<ul><li><ul><li class=keyword>:makes-blood-puns?<li class=space> <li class='misc'>false<li class=trail>,</ul><li class=space> <li><ul><li class=keyword>:has-pulse?<li class=space> <li class='misc'>true<li class=trail>,</ul><li class=space> <li><ul><li class=keyword>:name<li class=space> <li class='string'>\"McFishwich\"</ul><li class=trail>}</ul><li class=trail>,</ul><li class=space> <li><ul><li class='misc'>1<li class=space> <li class=map>{<ul><li><ul><li class=keyword>:makes-blood-puns?<li class=space> <li class='misc'>false<li class=trail>,</ul><li class=space> <li><ul><li class=keyword>:has-pulse?<li class=space> <li class='misc'>true<li class=trail>,</ul><li class=space> <li><ul><li class=keyword>:name<li class=space> <li class='string'>\"McMackson\"</ul><li class=trail>}</ul><li class=trail>,</ul><li class=space> <li><ul><li class='misc'>2<li class=space> <li class=map>{<ul><li><ul><li class=keyword>:makes-blood-puns?<li class=space> <li class='misc'>true<li class=trail>,</ul><li class=space> <li><ul><li class=keyword>:has-pulse?<li class=space> <li class='misc'>false<li class=trail>,</ul><li class=space> <li><ul><li class=keyword>:name<li class=space> <li class='string'>\"Damon Salvatore\"</ul><li class=trail>}</ul><li class=trail>,</ul><li class=space> <li><ul><li class='misc'>3<li class=space> <li class=map>{<ul><li><ul><li class=keyword>:makes-blood-puns?<li class=space> <li class='misc'>true<li class=trail>,</ul><li class=space> <li><ul><li class=keyword>:has-pulse?<li class=space> <li class='misc'>true<li class=trail>,</ul><li class=space> <li><ul><li class=keyword>:name<li class=space> <li class='string'>\"Mickey Mouse\"</ul><li class=trail>}</ul></ul><li class=trail>}</ul></ul>",
            "text/plain": [
              "\u001b[2m{\u001b[22m0 \u001b[2m{\u001b[22m\u001b[36m:makes-blood-puns?\u001b[m false\u001b[2m,\u001b[22m \u001b[36m:has-pulse?\u001b[m true\u001b[2m,\u001b[22m \u001b[36m:name\u001b[m \"McFishwich\"\u001b[2m}\u001b[22m\u001b[2m,\u001b[22m\n",
              " 1 \u001b[2m{\u001b[22m\u001b[36m:makes-blood-puns?\u001b[m false\u001b[2m,\u001b[22m \u001b[36m:has-pulse?\u001b[m true\u001b[2m,\u001b[22m \u001b[36m:name\u001b[m \"McMackson\"\u001b[2m}\u001b[22m\u001b[2m,\u001b[22m\n",
              " 2 \u001b[2m{\u001b[22m\u001b[36m:makes-blood-puns?\u001b[m true\u001b[2m,\u001b[22m \u001b[36m:has-pulse?\u001b[m false\u001b[2m,\u001b[22m \u001b[36m:name\u001b[m \"Damon Salvatore\"\u001b[2m}\u001b[22m\u001b[2m,\u001b[22m\n",
              " 3 \u001b[2m{\u001b[22m\u001b[36m:makes-blood-puns?\u001b[m true\u001b[2m,\u001b[22m \u001b[36m:has-pulse?\u001b[m true\u001b[2m,\u001b[22m \u001b[36m:name\u001b[m \"Mickey Mouse\"\u001b[2m}\u001b[22m\u001b[2m}\u001b[22m\n"
            ],
            "application/octet-stream": null
          },
          "metadata": {
            "tags": []
          },
          "execution_count": 211
        }
      ]
    },
    {
      "cell_type": "code",
      "metadata": {
        "id": "iFxx-6daJ5oJ",
        "colab_type": "code",
        "outputId": "f627412f-4a40-45d7-8687-62c5c6f25111",
        "colab": {
          "base_uri": "https://localhost:8080/",
          "height": 34
        }
      },
      "source": [
        "(defn vampire-related-details \n",
        "  [social-security-number]\n",
        "  (Thread/sleep 1000)\n",
        "  (get vampire-database social-security-number))"
      ],
      "execution_count": 0,
      "outputs": [
        {
          "output_type": "execute_result",
          "data": {
            "text/iclojure-html": "<ul><li class=browsable><ul><li class=var>#'user/vampire-related-details<li class=browser><li class=elision data-expr='(unrepl.repl$p8QhJwTpu2S19yqqZbyXWLOYcI8/fetch :G__2801)'>…</ul></ul>",
            "text/plain": [
              "#unrepl/browsable \u001b[2m[\u001b[22m#'user/vampire-related-details \u001b[4m/32\u001b[m\u001b[2m]\u001b[22m\n"
            ]
          },
          "metadata": {
            "tags": []
          },
          "execution_count": 213
        }
      ]
    },
    {
      "cell_type": "code",
      "metadata": {
        "id": "SD5GOdJ3RECz",
        "colab_type": "code",
        "outputId": "6186ba66-daaa-4d3d-9b40-4f6f06a73728",
        "colab": {
          "base_uri": "https://localhost:8080/",
          "height": 34
        }
      },
      "source": [
        "(defn vampire?\n",
        "  [record]\n",
        "  (and (:makes-blood-puns? record)\n",
        "       (not (:has-pulse? record))\n",
        "       record))"
      ],
      "execution_count": 0,
      "outputs": [
        {
          "output_type": "execute_result",
          "data": {
            "text/iclojure-html": "<ul><li class=browsable><ul><li class=var>#'user/vampire?<li class=browser><li class=elision data-expr='(unrepl.repl$p8QhJwTpu2S19yqqZbyXWLOYcI8/fetch :G__2823)'>…</ul></ul>",
            "text/plain": [
              "#unrepl/browsable \u001b[2m[\u001b[22m#'user/vampire? \u001b[4m/33\u001b[m\u001b[2m]\u001b[22m\n"
            ]
          },
          "metadata": {
            "tags": []
          },
          "execution_count": 215
        }
      ]
    },
    {
      "cell_type": "code",
      "metadata": {
        "id": "frPzypZOSQKL",
        "colab_type": "code",
        "colab": {}
      },
      "source": [
        "(defn identify-vampire \n",
        "  [social-security-numbers]\n",
        "  (first \n",
        "    (filter vampire? (map vampire-related-details social-security-numbers))))  \n",
        "\n",
        "(identify-vampire [0 1 2 3])"
      ],
      "execution_count": 0,
      "outputs": []
    },
    {
      "cell_type": "markdown",
      "metadata": {
        "id": "8W3MMjul9dED",
        "colab_type": "text"
      },
      "source": [
        "#### Infinite Sequences"
      ]
    },
    {
      "cell_type": "code",
      "metadata": {
        "id": "K9VHogwE9fXH",
        "colab_type": "code",
        "outputId": "74631af2-0357-487a-cc5f-09ab0660067d",
        "colab": {
          "base_uri": "https://localhost:8080/",
          "height": 34
        }
      },
      "source": [
        "(concat (take 8 (repeat \"uow\")) [\"uah!\"])"
      ],
      "execution_count": 0,
      "outputs": [
        {
          "output_type": "execute_result",
          "data": {
            "text/iclojure-html": "<ul><li class=seq>(<ul><li class='string'>\"uow\"<li class=space> <li class='string'>\"uow\"<li class=space> <li class='string'>\"uow\"<li class=space> <li class='string'>\"uow\"<li class=space> <li class='string'>\"uow\"<li class=space> <li class='string'>\"uow\"<li class=space> <li class='string'>\"uow\"<li class=space> <li class='string'>\"uow\"<li class=space> <li class='string'>\"uah!\"<li class=trail>)</ul></ul>",
            "text/plain": [
              "\u001b[2m(\u001b[22m\"uow\" \"uow\" \"uow\" \"uow\" \"uow\" \"uow\" \"uow\" \"uow\" \"uah!\"\u001b[2m)\u001b[22m\n"
            ],
            "application/octet-stream": null
          },
          "metadata": {
            "tags": []
          },
          "execution_count": 4
        }
      ]
    },
    {
      "cell_type": "code",
      "metadata": {
        "id": "YSMz3CXE-Pvq",
        "colab_type": "code",
        "outputId": "0dc6d78e-6a1f-4e31-89b0-b3ca1e598ac4",
        "colab": {
          "base_uri": "https://localhost:8080/",
          "height": 34
        }
      },
      "source": [
        "(take 4 (repeatedly (fn [] (rand-int 10))))"
      ],
      "execution_count": 0,
      "outputs": [
        {
          "output_type": "execute_result",
          "data": {
            "text/iclojure-html": "<ul><li class=seq>(<ul><li class='misc'>3<li class=space> <li class='misc'>5<li class=space> <li class='misc'>1<li class=space> <li class='misc'>6<li class=trail>)</ul></ul>",
            "text/plain": [
              "\u001b[2m(\u001b[22m3 5 1 6\u001b[2m)\u001b[22m\n"
            ],
            "application/octet-stream": null
          },
          "metadata": {
            "tags": []
          },
          "execution_count": 6
        }
      ]
    },
    {
      "cell_type": "markdown",
      "metadata": {
        "id": "696yRUWt-4oE",
        "colab_type": "text"
      },
      "source": [
        "### Collection Abstraction"
      ]
    },
    {
      "cell_type": "markdown",
      "metadata": {
        "id": "BCVbvRR9-8Rd",
        "colab_type": "text"
      },
      "source": [
        "#### Explanation"
      ]
    },
    {
      "cell_type": "markdown",
      "metadata": {
        "id": "e1TqQkXw-_tc",
        "colab_type": "text"
      },
      "source": [
        "The collection abstraction is closely related to the sequence abstraction. All of Clojure’s core data structures—vectors, maps, lists, and sets—take part in both abstractions.\\\n",
        "The sequence abstraction is about operating on members individually, whereas the collection abstraction is about the data structure as a whole. For example, the collection functions count, empty?, and every? aren’t about any individual element; they’re about the whole."
      ]
    },
    {
      "cell_type": "markdown",
      "metadata": {
        "id": "ePxLtjvA_Z4W",
        "colab_type": "text"
      },
      "source": [
        "#### Into"
      ]
    },
    {
      "cell_type": "markdown",
      "metadata": {
        "id": "aaIHOEQq_6ei",
        "colab_type": "text"
      },
      "source": [
        "Many seq functions returns a seq instead of the original data structure. So, you can use 'into' to transform the returned seq into its original data structure.\\\n",
        "Into takes two collections and add all the elements from the second to the first."
      ]
    },
    {
      "cell_type": "code",
      "metadata": {
        "id": "ywPu8KdyAO0s",
        "colab_type": "code",
        "outputId": "18eaf9bb-a622-47ac-b831-b2d06b79901d",
        "colab": {
          "base_uri": "https://localhost:8080/",
          "height": 34
        }
      },
      "source": [
        "(map identity {:product \"milk\" :qnt 2})"
      ],
      "execution_count": 0,
      "outputs": [
        {
          "output_type": "execute_result",
          "data": {
            "text/iclojure-html": "<ul><li class=seq>(<ul><li class=vector>[<ul><li class=keyword>:product<li class=space> <li class='string'>\"milk\"<li class=trail>]</ul><li class=space> <li class=vector>[<ul><li class=keyword>:qnt<li class=space> <li class='misc'>2<li class=trail>]</ul><li class=trail>)</ul></ul>",
            "text/plain": [
              "\u001b[2m(\u001b[22m\u001b[2m[\u001b[22m\u001b[36m:product\u001b[m \"milk\"\u001b[2m]\u001b[22m \u001b[2m[\u001b[22m\u001b[36m:qnt\u001b[m 2\u001b[2m]\u001b[22m\u001b[2m)\u001b[22m\n"
            ],
            "application/octet-stream": null
          },
          "metadata": {
            "tags": []
          },
          "execution_count": 37
        }
      ]
    },
    {
      "cell_type": "code",
      "metadata": {
        "id": "TwaJNGNrB7kW",
        "colab_type": "code",
        "outputId": "158e5352-1f44-4f3b-d13b-95246fa8505e",
        "colab": {
          "base_uri": "https://localhost:8080/",
          "height": 34
        }
      },
      "source": [
        "(into {} (map identity {:product \"milk\" :qnt 2}))"
      ],
      "execution_count": 0,
      "outputs": [
        {
          "output_type": "execute_result",
          "data": {
            "text/iclojure-html": "<ul><li class=map>{<ul><li><ul><li class=keyword>:product<li class=space> <li class='string'>\"milk\"<li class=trail>,</ul><li class=space> <li><ul><li class=keyword>:qnt<li class=space> <li class='misc'>2</ul><li class=trail>}</ul></ul>",
            "text/plain": [
              "\u001b[2m{\u001b[22m\u001b[36m:product\u001b[m \"milk\"\u001b[2m,\u001b[22m \u001b[36m:qnt\u001b[m 2\u001b[2m}\u001b[22m\n"
            ],
            "application/octet-stream": null
          },
          "metadata": {
            "tags": []
          },
          "execution_count": 40
        }
      ]
    },
    {
      "cell_type": "code",
      "metadata": {
        "id": "nXUn7dr3CzIn",
        "colab_type": "code",
        "outputId": "97aeb6eb-e136-4a92-f976-fbcc002e5fbc",
        "colab": {
          "base_uri": "https://localhost:8080/",
          "height": 34
        }
      },
      "source": [
        "(into {:price 4.30} (map identity {:product \"milk\" :qnt 2}))"
      ],
      "execution_count": 0,
      "outputs": [
        {
          "output_type": "execute_result",
          "data": {
            "text/iclojure-html": "<ul><li class=map>{<ul><li><ul><li class=keyword>:price<li class=space> <li class='misc'>4.3<li class=trail>,</ul><li class=space> <li><ul><li class=keyword>:product<li class=space> <li class='string'>\"milk\"<li class=trail>,</ul><li class=space> <li><ul><li class=keyword>:qnt<li class=space> <li class='misc'>2</ul><li class=trail>}</ul></ul>",
            "text/plain": [
              "\u001b[2m{\u001b[22m\u001b[36m:price\u001b[m 4.3\u001b[2m,\u001b[22m \u001b[36m:product\u001b[m \"milk\"\u001b[2m,\u001b[22m \u001b[36m:qnt\u001b[m 2\u001b[2m}\u001b[22m\n"
            ],
            "application/octet-stream": null
          },
          "metadata": {
            "tags": []
          },
          "execution_count": 48
        }
      ]
    },
    {
      "cell_type": "code",
      "metadata": {
        "id": "BQ1BZy_MDx8l",
        "colab_type": "code",
        "outputId": "1e82579c-b8f2-456a-d6da-8dbc91a41883",
        "colab": {
          "base_uri": "https://localhost:8080/",
          "height": 34
        }
      },
      "source": [
        "(into {:price 4.30} {:product \"milk\" :qnt 2})"
      ],
      "execution_count": 0,
      "outputs": [
        {
          "output_type": "execute_result",
          "data": {
            "text/iclojure-html": "<ul><li class=map>{<ul><li><ul><li class=keyword>:price<li class=space> <li class='misc'>4.3<li class=trail>,</ul><li class=space> <li><ul><li class=keyword>:product<li class=space> <li class='string'>\"milk\"<li class=trail>,</ul><li class=space> <li><ul><li class=keyword>:qnt<li class=space> <li class='misc'>2</ul><li class=trail>}</ul></ul>",
            "text/plain": [
              "\u001b[2m{\u001b[22m\u001b[36m:price\u001b[m 4.3\u001b[2m,\u001b[22m \u001b[36m:product\u001b[m \"milk\"\u001b[2m,\u001b[22m \u001b[36m:qnt\u001b[m 2\u001b[2m}\u001b[22m\n"
            ],
            "application/octet-stream": null
          },
          "metadata": {
            "tags": []
          },
          "execution_count": 58
        }
      ]
    },
    {
      "cell_type": "code",
      "metadata": {
        "id": "X0-ACh2KC8rP",
        "colab_type": "code",
        "outputId": "18fdf5e9-f0ea-44aa-cd73-f47faa9bcd09",
        "colab": {
          "base_uri": "https://localhost:8080/",
          "height": 34
        }
      },
      "source": [
        "(into {:qnt 3} [[:product \"milk\"] [:price 4.30]])"
      ],
      "execution_count": 0,
      "outputs": [
        {
          "output_type": "execute_result",
          "data": {
            "text/iclojure-html": "<ul><li class=map>{<ul><li><ul><li class=keyword>:qnt<li class=space> <li class='misc'>3<li class=trail>,</ul><li class=space> <li><ul><li class=keyword>:product<li class=space> <li class='string'>\"milk\"<li class=trail>,</ul><li class=space> <li><ul><li class=keyword>:price<li class=space> <li class='misc'>4.3</ul><li class=trail>}</ul></ul>",
            "text/plain": [
              "\u001b[2m{\u001b[22m\u001b[36m:qnt\u001b[m 3\u001b[2m,\u001b[22m \u001b[36m:product\u001b[m \"milk\"\u001b[2m,\u001b[22m \u001b[36m:price\u001b[m 4.3\u001b[2m}\u001b[22m\n"
            ],
            "application/octet-stream": null
          },
          "metadata": {
            "tags": []
          },
          "execution_count": 52
        }
      ]
    },
    {
      "cell_type": "code",
      "metadata": {
        "id": "HdGmYomEC8md",
        "colab_type": "code",
        "outputId": "9e88d8c4-7ded-4baf-da19-9e9b85986fde",
        "colab": {
          "base_uri": "https://localhost:8080/",
          "height": 34
        }
      },
      "source": [
        "(into [47] '(0 32 69))"
      ],
      "execution_count": 0,
      "outputs": [
        {
          "output_type": "execute_result",
          "data": {
            "text/iclojure-html": "<ul><li class=vector>[<ul><li class='misc'>47<li class=space> <li class='misc'>0<li class=space> <li class='misc'>32<li class=space> <li class='misc'>69<li class=trail>]</ul></ul>",
            "text/plain": [
              "\u001b[2m[\u001b[22m47 0 32 69\u001b[2m]\u001b[22m\n"
            ],
            "application/octet-stream": null
          },
          "metadata": {
            "tags": []
          },
          "execution_count": 55
        }
      ]
    },
    {
      "cell_type": "markdown",
      "metadata": {
        "id": "n7T4CRHIE27A",
        "colab_type": "text"
      },
      "source": [
        "#### Conj"
      ]
    },
    {
      "cell_type": "markdown",
      "metadata": {
        "id": "_e29m76RE4id",
        "colab_type": "text"
      },
      "source": [
        "Conj also adds elements to a collection, but the elements it adds should be passed as a scalar (singular, non-collection) (for 'into' it should be passed as a collection). *Conj* takes a rest parameter, while *into* takes a seqable data structure."
      ]
    },
    {
      "cell_type": "code",
      "metadata": {
        "id": "IvalsiYGFmz2",
        "colab_type": "code",
        "outputId": "07dbd027-7f7e-4fce-9854-e5cb12d54310",
        "colab": {
          "base_uri": "https://localhost:8080/",
          "height": 34
        }
      },
      "source": [
        "(conj [0] [1])"
      ],
      "execution_count": 0,
      "outputs": [
        {
          "output_type": "execute_result",
          "data": {
            "text/iclojure-html": "<ul><li class=vector>[<ul><li class='misc'>0<li class=space> <li class=vector>[<ul><li class='misc'>1<li class=trail>]</ul><li class=trail>]</ul></ul>",
            "text/plain": [
              "\u001b[2m[\u001b[22m0 \u001b[2m[\u001b[22m1\u001b[2m]\u001b[22m\u001b[2m]\u001b[22m\n"
            ],
            "application/octet-stream": null
          },
          "metadata": {
            "tags": []
          },
          "execution_count": 69
        }
      ]
    },
    {
      "cell_type": "markdown",
      "metadata": {
        "id": "pzuMZ3fRFzRD",
        "colab_type": "text"
      },
      "source": [
        "In this example, conj puts the entire element inside the first collection. To add only the number one to the collection, do like this:"
      ]
    },
    {
      "cell_type": "code",
      "metadata": {
        "id": "vdIqfVvZF8nm",
        "colab_type": "code",
        "outputId": "b2fb422f-04c2-4293-ea81-8f5a479680e7",
        "colab": {
          "base_uri": "https://localhost:8080/",
          "height": 34
        }
      },
      "source": [
        "(conj [0] 1)"
      ],
      "execution_count": 0,
      "outputs": [
        {
          "output_type": "execute_result",
          "data": {
            "text/iclojure-html": "<ul><li class=vector>[<ul><li class='misc'>0<li class=space> <li class='misc'>1<li class=trail>]</ul></ul>",
            "text/plain": [
              "\u001b[2m[\u001b[22m0 1\u001b[2m]\u001b[22m\n"
            ],
            "application/octet-stream": null
          },
          "metadata": {
            "tags": []
          },
          "execution_count": 71
        }
      ]
    },
    {
      "cell_type": "code",
      "metadata": {
        "id": "OQalcQtxF_Wx",
        "colab_type": "code",
        "outputId": "96a9d0c7-59ed-4657-8512-f4d7b730b5f8",
        "colab": {
          "base_uri": "https://localhost:8080/",
          "height": 34
        }
      },
      "source": [
        "(conj [0] 1 2 3 4 5 6 7)"
      ],
      "execution_count": 0,
      "outputs": [
        {
          "output_type": "execute_result",
          "data": {
            "text/iclojure-html": "<ul><li class=vector>[<ul><li class='misc'>0<li class=space> <li class='misc'>1<li class=space> <li class='misc'>2<li class=space> <li class='misc'>3<li class=space> <li class='misc'>4<li class=space> <li class='misc'>5<li class=space> <li class='misc'>6<li class=space> <li class='misc'>7<li class=trail>]</ul></ul>",
            "text/plain": [
              "\u001b[2m[\u001b[22m0 1 2 3 4 5 6 7\u001b[2m]\u001b[22m\n"
            ],
            "application/octet-stream": null
          },
          "metadata": {
            "tags": []
          },
          "execution_count": 74
        }
      ]
    },
    {
      "cell_type": "code",
      "metadata": {
        "id": "3uhLmTvlGDuZ",
        "colab_type": "code",
        "outputId": "9bcda156-c931-4374-e4f7-f0a4f3e2bd85",
        "colab": {
          "base_uri": "https://localhost:8080/",
          "height": 34
        }
      },
      "source": [
        "(conj {:qnt 6} [:product \"banana\"] [:price 1.99])"
      ],
      "execution_count": 0,
      "outputs": [
        {
          "output_type": "execute_result",
          "data": {
            "text/iclojure-html": "<ul><li class=map>{<ul><li><ul><li class=keyword>:qnt<li class=space> <li class='misc'>6<li class=trail>,</ul><li class=space> <li><ul><li class=keyword>:product<li class=space> <li class='string'>\"banana\"<li class=trail>,</ul><li class=space> <li><ul><li class=keyword>:price<li class=space> <li class='misc'>1.99</ul><li class=trail>}</ul></ul>",
            "text/plain": [
              "\u001b[2m{\u001b[22m\u001b[36m:qnt\u001b[m 6\u001b[2m,\u001b[22m \u001b[36m:product\u001b[m \"banana\"\u001b[2m,\u001b[22m \u001b[36m:price\u001b[m 1.99\u001b[2m}\u001b[22m\n"
            ],
            "application/octet-stream": null
          },
          "metadata": {
            "tags": []
          },
          "execution_count": 78
        }
      ]
    },
    {
      "cell_type": "markdown",
      "metadata": {
        "id": "F5kT_6KRIzZD",
        "colab_type": "text"
      },
      "source": [
        "### Function Functions"
      ]
    },
    {
      "cell_type": "markdown",
      "metadata": {
        "id": "7fT_Q2KFI0-M",
        "colab_type": "text"
      },
      "source": [
        "#### Apply"
      ]
    },
    {
      "cell_type": "markdown",
      "metadata": {
        "id": "Fe5XsfzHJQDk",
        "colab_type": "text"
      },
      "source": [
        "Apply 'explodes' a seqable data structure so it can be passes to a functions that expects a rest parameter."
      ]
    },
    {
      "cell_type": "code",
      "metadata": {
        "id": "SzBD9S35Ixtl",
        "colab_type": "code",
        "outputId": "ec3cafe7-ce53-4eda-fa42-657a6fe0cf67",
        "colab": {
          "base_uri": "https://localhost:8080/",
          "height": 34
        }
      },
      "source": [
        "(max 0 1 2)"
      ],
      "execution_count": 0,
      "outputs": [
        {
          "output_type": "execute_result",
          "data": {
            "text/iclojure-html": "<ul><li class='misc'>2</ul>",
            "text/plain": [
              "2\n"
            ],
            "application/octet-stream": null
          },
          "metadata": {
            "tags": []
          },
          "execution_count": 93
        }
      ]
    },
    {
      "cell_type": "code",
      "metadata": {
        "id": "RFVeUIijI7_L",
        "colab_type": "code",
        "outputId": "ba967698-6cfa-448c-860a-b64f23ddab9d",
        "colab": {
          "base_uri": "https://localhost:8080/",
          "height": 34
        }
      },
      "source": [
        "(max [0 1 2]) ;it does not return the max number inside the seq"
      ],
      "execution_count": 0,
      "outputs": [
        {
          "output_type": "execute_result",
          "data": {
            "text/iclojure-html": "<ul><li class=vector>[<ul><li class='misc'>0<li class=space> <li class='misc'>1<li class=space> <li class='misc'>2<li class=trail>]</ul></ul>",
            "text/plain": [
              "\u001b[2m[\u001b[22m0 1 2\u001b[2m]\u001b[22m\n"
            ],
            "application/octet-stream": null
          },
          "metadata": {
            "tags": []
          },
          "execution_count": 95
        }
      ]
    },
    {
      "cell_type": "code",
      "metadata": {
        "id": "1HdThOk5JHhU",
        "colab_type": "code",
        "outputId": "0448ac14-704a-46bd-91fd-c79630949ac4",
        "colab": {
          "base_uri": "https://localhost:8080/",
          "height": 34
        }
      },
      "source": [
        "(apply max [0 1 2]) ;but apply can solve this 'problem'"
      ],
      "execution_count": 0,
      "outputs": [
        {
          "output_type": "execute_result",
          "data": {
            "text/iclojure-html": "<ul><li class='misc'>2</ul>",
            "text/plain": [
              "2\n"
            ],
            "application/octet-stream": null
          },
          "metadata": {
            "tags": []
          },
          "execution_count": 4
        }
      ]
    },
    {
      "cell_type": "markdown",
      "metadata": {
        "id": "oNX_Bm3yJfVD",
        "colab_type": "text"
      },
      "source": [
        "#### Partial"
      ]
    },
    {
      "cell_type": "markdown",
      "metadata": {
        "id": "7CmL1BUpQ33Q",
        "colab_type": "text"
      },
      "source": [
        "Partial takes a function and any number of arguments. It then returns a new function. When you call the returned function, it calls the original function with the original arguments you supplied it along with the new arguments. "
      ]
    },
    {
      "cell_type": "code",
      "metadata": {
        "id": "nVqcz8AlRWan",
        "colab_type": "code",
        "outputId": "d624636f-3770-4481-c580-4343e8c28093",
        "colab": {
          "base_uri": "https://localhost:8080/",
          "height": 34
        }
      },
      "source": [
        "(def add10 (partial + 10))\n",
        "(add10 3) "
      ],
      "execution_count": 0,
      "outputs": [
        {
          "output_type": "execute_result",
          "data": {
            "text/iclojure-html": "<ul><li class='misc'>13</ul>",
            "text/plain": [
              "13\n"
            ],
            "application/octet-stream": null
          },
          "metadata": {
            "tags": []
          },
          "execution_count": 6
        }
      ]
    },
    {
      "cell_type": "code",
      "metadata": {
        "id": "J6dx5uaBRa1A",
        "colab_type": "code",
        "outputId": "92eb13c0-e1e3-4950-d66a-fd242946b597",
        "colab": {
          "base_uri": "https://localhost:8080/",
          "height": 34
        }
      },
      "source": [
        "(def add-missing-elements\n",
        "  (partial conj [\"water\" \"earth\" \"air\"]))\n",
        "\n",
        "(add-missing-elements \"unobtainium\" \"adamantium\")"
      ],
      "execution_count": 0,
      "outputs": [
        {
          "output_type": "execute_result",
          "data": {
            "text/iclojure-html": "<ul><li class=vector>[<ul><li class='string'>\"water\"<li class=space> <li class='string'>\"earth\"<li class=space> <li class='string'>\"air\"<li class=space> <li class='string'>\"unobtainium\"<li class=space> <li class='string'>\"adamantium\"<li class=trail>]</ul></ul>",
            "text/plain": [
              "\u001b[2m[\u001b[22m\"water\" \"earth\" \"air\" \"unobtainium\" \"adamantium\"\u001b[2m]\u001b[22m\n"
            ],
            "application/octet-stream": null
          },
          "metadata": {
            "tags": []
          },
          "execution_count": 137
        }
      ]
    },
    {
      "cell_type": "code",
      "metadata": {
        "id": "wt8QM6oERl3p",
        "colab_type": "code",
        "outputId": "0304d2d0-ee84-460c-f7a8-8f94f5436b9c",
        "colab": {
          "base_uri": "https://localhost:8080/",
          "height": 34
        }
      },
      "source": [
        "(defn my-partial\n",
        "  [partialized-fn & args]\n",
        "  (fn [& more-args]\n",
        "    (apply partialized-fn (into args more-args))))\n",
        "\n",
        "(def add20 (my-partial + 20))\n",
        "(add20 3) "
      ],
      "execution_count": 0,
      "outputs": [
        {
          "output_type": "execute_result",
          "data": {
            "text/iclojure-html": "<ul><li class='misc'>23</ul>",
            "text/plain": [
              "23\n"
            ],
            "application/octet-stream": null
          },
          "metadata": {
            "tags": []
          },
          "execution_count": 140
        }
      ]
    },
    {
      "cell_type": "code",
      "metadata": {
        "id": "vQp3Dw61RtH6",
        "colab_type": "code",
        "outputId": "efd063bb-5d0b-4b28-e994-31cfccbe1627",
        "colab": {
          "base_uri": "https://localhost:8080/",
          "height": 130
        }
      },
      "source": [
        "(defn lousy-logger\n",
        "  [log-level message]\n",
        "  (condp = log-level\n",
        "    :warn (clojure.string/lower-case message)\n",
        "    :emergency (clojure.string/upper-case message)))\n",
        "\n",
        "(def warn (partial lousy-logger :warn))\n",
        "\n",
        "(warn \"Red light ahead\")"
      ],
      "execution_count": 0,
      "outputs": [
        {
          "output_type": "error",
          "ename": "SyntaxError",
          "evalue": "ignored",
          "traceback": [
            "\u001b[0;36m  File \u001b[0;32m\"<ipython-input-5-1300e9df8d6b>\"\u001b[0;36m, line \u001b[0;32m1\u001b[0m\n\u001b[0;31m    (defn lousy-logger\u001b[0m\n\u001b[0m              ^\u001b[0m\n\u001b[0;31mSyntaxError\u001b[0m\u001b[0;31m:\u001b[0m invalid syntax\n"
          ]
        }
      ]
    },
    {
      "cell_type": "markdown",
      "metadata": {
        "id": "vDwMCuwCSDwH",
        "colab_type": "text"
      },
      "source": [
        "#### Complement"
      ]
    },
    {
      "cell_type": "markdown",
      "metadata": {
        "id": "Ce2FEt5HSNkh",
        "colab_type": "text"
      },
      "source": [
        "It’s so common to want the complement (the negation) of a Boolean function that there’s a function, complement, for that."
      ]
    },
    {
      "cell_type": "markdown",
      "metadata": {
        "id": "SIDeUzOLSo03",
        "colab_type": "text"
      },
      "source": [
        "Rememeber the [vampire?](https://colab.research.google.com/drive/1n3Vo_hhLf_thKHNnfu0gxx_BE8sd79OM#scrollTo=SD5GOdJ3RECz&line=2&uniqifier=1) function example? So, you can meke the complement of this function to find all non-vampire beings."
      ]
    },
    {
      "cell_type": "code",
      "metadata": {
        "id": "LesxbVoSTMS0",
        "colab_type": "code",
        "outputId": "2b8f8826-b4c2-4a1f-98a9-7843605e9b18",
        "colab": {
          "base_uri": "https://localhost:8080/",
          "height": 34
        }
      },
      "source": [
        "(def not-vampire? (complement vampire?))"
      ],
      "execution_count": 0,
      "outputs": [
        {
          "output_type": "execute_result",
          "data": {
            "text/iclojure-html": "<ul><li class=browsable><ul><li class=var>#'user/not-vampire?<li class=browser><li class=elision data-expr='(unrepl.repl$p8QhJwTpu2S19yqqZbyXWLOYcI8/fetch :G__2905)'>…</ul></ul>",
            "text/plain": [
              "#unrepl/browsable \u001b[2m[\u001b[22m#'user/not-vampire? \u001b[4m/34\u001b[m\u001b[2m]\u001b[22m\n"
            ]
          },
          "metadata": {
            "tags": []
          },
          "execution_count": 223
        }
      ]
    },
    {
      "cell_type": "code",
      "metadata": {
        "id": "yvZHIFelV68V",
        "colab_type": "code",
        "outputId": "ec4d8c07-d0f6-4fae-9ecd-eca31ccb0007",
        "colab": {
          "base_uri": "https://localhost:8080/",
          "height": 34
        }
      },
      "source": [
        "(defn identify-beings \n",
        "  [social-security-numbers being-kind-identifier]\n",
        "    (filter being-kind-identifier (map vampire-related-details social-security-numbers)))\n",
        "\n",
        "(identify-beings [0 1 2 3] vampire?)"
      ],
      "execution_count": 0,
      "outputs": [
        {
          "output_type": "execute_result",
          "data": {
            "text/iclojure-html": "<ul><li class=seq>(<ul><li class=map>{<ul><li><ul><li class=keyword>:makes-blood-puns?<li class=space> <li class='misc'>true<li class=trail>,</ul><li class=space> <li><ul><li class=keyword>:has-pulse?<li class=space> <li class='misc'>false<li class=trail>,</ul><li class=space> <li><ul><li class=keyword>:name<li class=space> <li class='string'>\"Damon Salvatore\"</ul><li class=trail>}</ul><li class=trail>)</ul></ul>",
            "text/plain": [
              "\u001b[2m(\u001b[22m\u001b[2m{\u001b[22m\u001b[36m:makes-blood-puns?\u001b[m true\u001b[2m,\u001b[22m \u001b[36m:has-pulse?\u001b[m false\u001b[2m,\u001b[22m \u001b[36m:name\u001b[m \"Damon Salvatore\"\u001b[2m}\u001b[22m\u001b[2m)\u001b[22m\n"
            ],
            "application/octet-stream": null
          },
          "metadata": {
            "tags": []
          },
          "execution_count": 236
        }
      ]
    },
    {
      "cell_type": "code",
      "metadata": {
        "id": "y2c7Ur5DYQmO",
        "colab_type": "code",
        "colab": {}
      },
      "source": [
        "(identify-beings [0 1 2 3] not-vampire?)"
      ],
      "execution_count": 0,
      "outputs": []
    },
    {
      "cell_type": "markdown",
      "metadata": {
        "id": "RIMarQRKTX_c",
        "colab_type": "text"
      },
      "source": [
        "### Exercise of this section"
      ]
    },
    {
      "cell_type": "code",
      "metadata": {
        "id": "RNTFIlM7Tcon",
        "colab_type": "code",
        "outputId": "d3c8a0c9-3ba5-4d32-80f2-0a4979dc38c6",
        "colab": {
          "base_uri": "https://localhost:8080/",
          "height": 54
        }
      },
      "source": [
        ";(def filename \"suspects.csv\") --> I will not read the file here. Instead, use.\n",
        "(def read-file \"Edward Cullen,10\\nBella Swan,0\\nCharlie Swan,0\\nJacob Black,3\\nCarlisle Cullen,6\\n\")\n",
        "\n",
        "(def vamp-keys [:name :glitter-index])\n",
        "(defn str->int\n",
        "  [str]\n",
        "  (Integer. str))\n",
        "(def conversions {:name identity\n",
        "                  :glitter-index str->int})\n",
        "(defn convert\n",
        "  [vamp-key value]\n",
        "  ((get conversions vamp-key) value))\n",
        "\n",
        "(defn parse\n",
        "  \"Convert a CSV into rows of columns\"\n",
        "  [string]\n",
        "  (map #(clojure.string/split % #\",\")\n",
        "       (clojure.string/split string #\"\\n\")))\n",
        "\n",
        "(defn mapify\n",
        "  [rows]\n",
        "  (map (fn [unmapped-row]\n",
        "         (reduce (fn [row-map [vamp-key value]]\n",
        "                   (assoc row-map vamp-key (convert vamp-key value)))\n",
        "                 {}\n",
        "                 (map vector vamp-keys unmapped-row)))\n",
        "       rows))\n",
        "\n",
        "(defn glitter-filter\n",
        "  [minimum-glitter records]\n",
        "  (filter #(>= (:glitter-index %) minimum-glitter) records))\n",
        "\n",
        "(def mapified-beings-list (mapify (parse read-file)))\n",
        "\n",
        "(print (glitter-filter 3 mapified-beings-list))"
      ],
      "execution_count": 0,
      "outputs": [
        {
          "output_type": "stream",
          "text": [
            "({:name Edward Cullen, :glitter-index 10} {:name Jacob Black, :glitter-index 3} {:name Carlisle Cullen, :glitter-index 6})"
          ],
          "name": "stdout"
        },
        {
          "output_type": "execute_result",
          "data": {
            "text/iclojure-html": "<ul><li class='misc'>nil</ul>",
            "text/plain": [
              "nil\n"
            ],
            "application/octet-stream": null
          },
          "metadata": {
            "tags": []
          },
          "execution_count": 7
        }
      ]
    },
    {
      "cell_type": "markdown",
      "metadata": {
        "id": "Eb97wrI3AA9H",
        "colab_type": "text"
      },
      "source": [
        "## Advanced"
      ]
    },
    {
      "cell_type": "markdown",
      "metadata": {
        "id": "Nlmea98MAlTK",
        "colab_type": "text"
      },
      "source": [
        "### Abstractions with multimethods, protocols and records"
      ]
    },
    {
      "cell_type": "markdown",
      "metadata": {
        "id": "a4mVACCCAoHG",
        "colab_type": "text"
      },
      "source": [
        "#### Multimethods"
      ]
    },
    {
      "cell_type": "code",
      "metadata": {
        "id": "DdO27oi6A-IL",
        "colab_type": "code",
        "outputId": "0511708f-d41e-46a4-81ce-9d870c1741f1",
        "colab": {
          "base_uri": "https://localhost:8080/",
          "height": 130
        }
      },
      "source": [
        "(defmulti calculate-area (fn [form] (:num-sides form)))\n",
        "\n",
        "(defmethod calculate-area 2\n",
        "  [form]\n",
        "  (* (:side1 form) (:side2 form)))\n",
        "\n",
        "(defmethod calculate-area 3\n",
        "  [form]\n",
        "  (/ (* (:side1 form) (:side2 form)) 2))\n",
        "\n",
        "\n",
        "(def quadrado {:num-sides 2\n",
        "               :side1 5\n",
        "               :side2 5})\n",
        "(def triangulo {:num-sides 3\n",
        "                :side1 8\n",
        "                :side2 5\n",
        "                :side3 8})\n",
        "\n",
        "(println (str \"Area quadrado:\" (calculate-area quadrado)))\n",
        "(println (str \"Area triangulo: \" (calculate-area triangulo)))"
      ],
      "execution_count": 0,
      "outputs": [
        {
          "output_type": "error",
          "ename": "SyntaxError",
          "evalue": "ignored",
          "traceback": [
            "\u001b[0;36m  File \u001b[0;32m\"<ipython-input-1-335508dd1939>\"\u001b[0;36m, line \u001b[0;32m1\u001b[0m\n\u001b[0;31m    (defmulti calculate-area (fn [form] (:num-sides form)))\u001b[0m\n\u001b[0m                      ^\u001b[0m\n\u001b[0;31mSyntaxError\u001b[0m\u001b[0;31m:\u001b[0m invalid syntax\n"
          ]
        }
      ]
    }
  ]
}